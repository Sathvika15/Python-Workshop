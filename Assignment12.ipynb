{
  "nbformat": 4,
  "nbformat_minor": 0,
  "metadata": {
    "colab": {
      "name": "Assignment12.ipynb",
      "provenance": [],
      "collapsed_sections": [],
      "authorship_tag": "ABX9TyOqB1hk3QvFJ3MnaryaT3wz",
      "include_colab_link": true
    },
    "kernelspec": {
      "name": "python3",
      "display_name": "Python 3"
    }
  },
  "cells": [
    {
      "cell_type": "markdown",
      "metadata": {
        "id": "view-in-github",
        "colab_type": "text"
      },
      "source": [
        "<a href=\"https://colab.research.google.com/github/Sathvika15/Python-Workshop/blob/master/Assignment12.ipynb\" target=\"_parent\"><img src=\"https://colab.research.google.com/assets/colab-badge.svg\" alt=\"Open In Colab\"/></a>"
      ]
    },
    {
      "cell_type": "markdown",
      "metadata": {
        "id": "77SpqMK9iSP1",
        "colab_type": "text"
      },
      "source": [
        "**MODULE 5 ASSIGNMENT 1**"
      ]
    },
    {
      "cell_type": "markdown",
      "metadata": {
        "id": "jQPF6-8ZiW6a",
        "colab_type": "text"
      },
      "source": [
        "Program to create a tuple "
      ]
    },
    {
      "cell_type": "code",
      "metadata": {
        "id": "q6siEwiAiOTb",
        "colab_type": "code",
        "colab": {
          "base_uri": "https://localhost:8080/",
          "height": 50
        },
        "outputId": "63359c89-0204-4543-b695-200b26a2aa60"
      },
      "source": [
        "tuple1=(1,2,3,4,5)\n",
        "tuple2=tuple(\"Hello\")\n",
        "print(\"The respective tuple is \",tuple1,type(tuple1))\n",
        "print(\"The respective tuple is \",tuple2,type(tuple2))"
      ],
      "execution_count": null,
      "outputs": [
        {
          "output_type": "stream",
          "text": [
            "The respective tuple is  (1, 2, 3, 4, 5) <class 'tuple'>\n",
            "The respective tuple is  ('H', 'e', 'l', 'l', 'o') <class 'tuple'>\n"
          ],
          "name": "stdout"
        }
      ]
    },
    {
      "cell_type": "markdown",
      "metadata": {
        "id": "YFPg0mA8i46E",
        "colab_type": "text"
      },
      "source": [
        "Program to create tuple with different data types"
      ]
    },
    {
      "cell_type": "code",
      "metadata": {
        "id": "azMRYi2diqKB",
        "colab_type": "code",
        "colab": {
          "base_uri": "https://localhost:8080/",
          "height": 34
        },
        "outputId": "d1fd3fa4-cc4c-436e-b6f6-7e4cb71408f7"
      },
      "source": [
        "t1=(10,4,6.3,'Python','C++',7.9)\n",
        "print(\"The tuple with datatypes : \",t1)"
      ],
      "execution_count": null,
      "outputs": [
        {
          "output_type": "stream",
          "text": [
            "The tuple with datatypes :  (10, 4, 6.3, 'Python', 'C++', 7.9)\n"
          ],
          "name": "stdout"
        }
      ]
    },
    {
      "cell_type": "markdown",
      "metadata": {
        "id": "8F-JR6O3jMc9",
        "colab_type": "text"
      },
      "source": [
        "Program to convert tuple to a string "
      ]
    },
    {
      "cell_type": "code",
      "metadata": {
        "id": "6lentShCjJnm",
        "colab_type": "code",
        "colab": {
          "base_uri": "https://localhost:8080/",
          "height": 84
        },
        "outputId": "cc8140c2-2416-4816-c0d9-60e499c28f70"
      },
      "source": [
        "t1=tuple(\"Programming\")\n",
        "print(\"The tuple looks like \",t1)\n",
        "print(type(t1))\n",
        "s1=str(t1)\n",
        "print(\"After converted in a string \",s1)\n",
        "print(type(s1))"
      ],
      "execution_count": null,
      "outputs": [
        {
          "output_type": "stream",
          "text": [
            "The tuple looks like  ('P', 'r', 'o', 'g', 'r', 'a', 'm', 'm', 'i', 'n', 'g')\n",
            "<class 'tuple'>\n",
            "After converted in a string  ('P', 'r', 'o', 'g', 'r', 'a', 'm', 'm', 'i', 'n', 'g')\n",
            "<class 'str'>\n"
          ],
          "name": "stdout"
        }
      ]
    },
    {
      "cell_type": "markdown",
      "metadata": {
        "id": "QZHYCN1tjtyc",
        "colab_type": "text"
      },
      "source": [
        "Python program to slice a tuple "
      ]
    },
    {
      "cell_type": "code",
      "metadata": {
        "id": "xlNNxXPUjr4v",
        "colab_type": "code",
        "colab": {
          "base_uri": "https://localhost:8080/",
          "height": 50
        },
        "outputId": "ede3373b-c090-4532-a134-648c5cab18b9"
      },
      "source": [
        "t1=('P','R','O',10,4.5,'G','R',1,2,'A','M','M','I','N','G')\n",
        "print(\"The tuple before the slicing is \",t1)\n",
        "\n",
        "#This is part to print 'PROGRAMMING' without other datatypes in between with the help of slicing \n",
        "t1=t1[:3]+t1[5:7]+t1[9:]\n",
        "print(\"The tuple after slicins gives \",t1)"
      ],
      "execution_count": null,
      "outputs": [
        {
          "output_type": "stream",
          "text": [
            "The tuple before the slicing is  ('P', 'R', 'O', 10, 4.5, 'G', 'R', 1, 2, 'A', 'M', 'M', 'I', 'N', 'G')\n",
            "The tuple after slicins gives  ('P', 'R', 'O', 'G', 'R', 'A', 'M', 'M', 'I', 'N', 'G')\n"
          ],
          "name": "stdout"
        }
      ]
    },
    {
      "cell_type": "markdown",
      "metadata": {
        "id": "GX83W-eIk92a",
        "colab_type": "text"
      },
      "source": [
        "Program to find the length of a tuple "
      ]
    },
    {
      "cell_type": "code",
      "metadata": {
        "id": "rba_ezjeky2y",
        "colab_type": "code",
        "colab": {
          "base_uri": "https://localhost:8080/",
          "height": 34
        },
        "outputId": "0c3a73db-6cc7-4c05-ff49-b9abde117f73"
      },
      "source": [
        "t1=(1,2,5.8,3,7.2,2,9,'Python',2,6,'Java')\n",
        "print(\"The length of the string is \",len(t1))"
      ],
      "execution_count": null,
      "outputs": [
        {
          "output_type": "stream",
          "text": [
            "The length of the string is  11\n"
          ],
          "name": "stdout"
        }
      ]
    },
    {
      "cell_type": "markdown",
      "metadata": {
        "id": "W2ddzECjmTpd",
        "colab_type": "text"
      },
      "source": [
        "or "
      ]
    },
    {
      "cell_type": "code",
      "metadata": {
        "id": "Oy0JryUKlVk6",
        "colab_type": "code",
        "colab": {
          "base_uri": "https://localhost:8080/",
          "height": 34
        },
        "outputId": "ce1e9b43-380c-4b2e-e425-60704618009d"
      },
      "source": [
        "#This program is without using the len function \n",
        "t1=(1,2,5.8,3,7.2,2,9,'Python',2,6,'Java')\n",
        "count=0\n",
        "for i in t1:\n",
        "  count=count+1\n",
        "print(\"The length of the tuple is \",count)"
      ],
      "execution_count": null,
      "outputs": [
        {
          "output_type": "stream",
          "text": [
            "The length of the tuple is  11\n"
          ],
          "name": "stdout"
        }
      ]
    },
    {
      "cell_type": "markdown",
      "metadata": {
        "id": "caSlEuHgmjac",
        "colab_type": "text"
      },
      "source": [
        "Program to convert tuple to a dictionary "
      ]
    },
    {
      "cell_type": "code",
      "metadata": {
        "id": "jII_2Kg0mhy2",
        "colab_type": "code",
        "colab": {
          "base_uri": "https://localhost:8080/",
          "height": 34
        },
        "outputId": "f1d30011-5eb9-4415-bc23-576c21c373cb"
      },
      "source": [
        "t1=((1,\"Python\"),(2,\"Workshop\"))\n",
        "d1=dict(t1)\n",
        "print(\"The tuple in the form of a dictionary gives \",d1)"
      ],
      "execution_count": null,
      "outputs": [
        {
          "output_type": "stream",
          "text": [
            "The tuple in the form of a dictionary gives  {1: 'Python', 2: 'Workshop'}\n"
          ],
          "name": "stdout"
        }
      ]
    },
    {
      "cell_type": "markdown",
      "metadata": {
        "id": "7d2bzU6tpV_B",
        "colab_type": "text"
      },
      "source": [
        "Program to reverse a tuple"
      ]
    },
    {
      "cell_type": "code",
      "metadata": {
        "id": "ZgF1chDDpI4c",
        "colab_type": "code",
        "colab": {
          "base_uri": "https://localhost:8080/",
          "height": 50
        },
        "outputId": "68494ace-78a0-4732-a63b-716d580b34d0"
      },
      "source": [
        "t1=tuple(\"Python Workshop\")\n",
        "print(\"The original tuple is \",t1)\n",
        "print(\"The reverse of the original tuple is \",t1[::-1])"
      ],
      "execution_count": null,
      "outputs": [
        {
          "output_type": "stream",
          "text": [
            "The original tuple is  ('P', 'y', 't', 'h', 'o', 'n', ' ', 'W', 'o', 'r', 'k', 's', 'h', 'o', 'p')\n",
            "The reverse of the original tuple is  ('p', 'o', 'h', 's', 'k', 'r', 'o', 'W', ' ', 'n', 'o', 'h', 't', 'y', 'P')\n"
          ],
          "name": "stdout"
        }
      ]
    },
    {
      "cell_type": "markdown",
      "metadata": {
        "id": "Dfo0GrJGqFen",
        "colab_type": "text"
      },
      "source": [
        "Program to covert a list of tuples into a dictionary"
      ]
    },
    {
      "cell_type": "code",
      "metadata": {
        "id": "6kDS8ff4p8WD",
        "colab_type": "code",
        "colab": {
          "base_uri": "https://localhost:8080/",
          "height": 50
        },
        "outputId": "824caf01-beb1-4975-c489-59ed4760f840"
      },
      "source": [
        "t1=(1,2,3,4,5)\n",
        "t2=('MON','TUE','WED','THURS','FRI')\n",
        "d1={x:y for (x,y) in zip(t1,t2)}\n",
        "print(\"The respective dictionary is \")\n",
        "print(d1)"
      ],
      "execution_count": 23,
      "outputs": [
        {
          "output_type": "stream",
          "text": [
            "The respective dictionary is \n",
            "{1: 'MON', 2: 'TUE', 3: 'WED', 4: 'THURS', 5: 'FRI'}\n"
          ],
          "name": "stdout"
        }
      ]
    },
    {
      "cell_type": "markdown",
      "metadata": {
        "id": "xqXjmis7qMi4",
        "colab_type": "text"
      },
      "source": [
        "Program to convert a list to a tuple "
      ]
    },
    {
      "cell_type": "code",
      "metadata": {
        "id": "IukvxtDNqQfS",
        "colab_type": "code",
        "colab": {
          "base_uri": "https://localhost:8080/",
          "height": 50
        },
        "outputId": "f8f3b982-4f39-4033-e653-f8d58d547ab8"
      },
      "source": [
        "list1=[1,3,2,7,5,'Hey','Good morning',10]\n",
        "print(\"The list is \",list1)\n",
        "t1=tuple(list1)\n",
        "print(\"The list after converted into a tuple gives \",t1)"
      ],
      "execution_count": null,
      "outputs": [
        {
          "output_type": "stream",
          "text": [
            "The list is  [1, 3, 2, 7, 5, 'Hey', 'Good morning', 10]\n",
            "The list after converted into a tuple gives  (1, 3, 2, 7, 5, 'Hey', 'Good morning', 10)\n"
          ],
          "name": "stdout"
        }
      ]
    },
    {
      "cell_type": "code",
      "metadata": {
        "id": "nVp9Y0-GqnpI",
        "colab_type": "code",
        "colab": {}
      },
      "source": [
        ""
      ],
      "execution_count": null,
      "outputs": []
    }
  ]
}