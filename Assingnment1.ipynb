{
  "nbformat": 4,
  "nbformat_minor": 0,
  "metadata": {
    "colab": {
      "name": "Assingnment1.ipynb",
      "provenance": [],
      "collapsed_sections": [],
      "authorship_tag": "ABX9TyObpdV7xu0IOpfalkqzr0GA",
      "include_colab_link": true
    },
    "kernelspec": {
      "name": "python3",
      "display_name": "Python 3"
    }
  },
  "cells": [
    {
      "cell_type": "markdown",
      "metadata": {
        "id": "view-in-github",
        "colab_type": "text"
      },
      "source": [
        "<a href=\"https://colab.research.google.com/github/Sathvika15/Python-Workshop/blob/master/Assingnment1.ipynb\" target=\"_parent\"><img src=\"https://colab.research.google.com/assets/colab-badge.svg\" alt=\"Open In Colab\"/></a>"
      ]
    },
    {
      "cell_type": "markdown",
      "metadata": {
        "id": "oGmiuVNf-SXs",
        "colab_type": "text"
      },
      "source": [
        "1. SIMPLE CALCULATOR "
      ]
    },
    {
      "cell_type": "code",
      "metadata": {
        "id": "Gg45MyHV-VxB",
        "colab_type": "code",
        "colab": {
          "base_uri": "https://localhost:8080/",
          "height": 168
        },
        "outputId": "917c63a4-1777-40a9-9a27-82acf7ff50ee"
      },
      "source": [
        "a=int(input(\"Enter the first number \"))\n",
        "b=int(input(\"Enter the second number \"))\n",
        "print(\"The sum of the numbers is  \",a+b)\n",
        "print(\"The difference between the numbers is \",a-b)\n",
        "print(\"The product of given numbers is \",a*b)\n",
        "print(\"The division of the numbers is \",a/b)\n",
        "print(\"The remainder of the numbers is \",a%b)\n",
        "print(\"The power of \",a, \"raised to\",b, \" is \",a**b)\n",
        "print(\"The answer after floor division of the numbers is \",a//b)"
      ],
      "execution_count": 3,
      "outputs": [
        {
          "output_type": "stream",
          "text": [
            "Enter the first number 10\n",
            "Enter the second number 3\n",
            "The sum of the numbers is   13\n",
            "The difference between the numbers is  7\n",
            "The product of given numbers is  30\n",
            "The division of the numbers is  3.3333333333333335\n",
            "The remainder of the numbers is  1\n",
            "The power of  10 raised to 3  is  1000\n",
            "The answer after floor division of the numbers is  3\n"
          ],
          "name": "stdout"
        }
      ]
    },
    {
      "cell_type": "markdown",
      "metadata": {
        "id": "Bf69FgMj__FU",
        "colab_type": "text"
      },
      "source": [
        "2. Write the python program to calculate simple intrest "
      ]
    },
    {
      "cell_type": "code",
      "metadata": {
        "id": "FQSHfpwqA76l",
        "colab_type": "code",
        "colab": {
          "base_uri": "https://localhost:8080/",
          "height": 84
        },
        "outputId": "b8136be3-45de-45df-c3d4-f680fdfe8015"
      },
      "source": [
        "p=float(input(\"Enter the principal value \"))\n",
        "r=float(input(\"Enter the value of rate of intrest \"))\n",
        "t=float(input(\"Enter the duration of time required \"))\n",
        "Simple_intrest=int((p*r*t)/100)\n",
        "print(\"The total simple intrest is \",Simple_intrest)"
      ],
      "execution_count": 10,
      "outputs": [
        {
          "output_type": "stream",
          "text": [
            "Enter the principal value 50\n",
            "Enter the value of rate of intrest 3\n",
            "Enter the duration of time required 10\n",
            "The total simple intrest is  15\n"
          ],
          "name": "stdout"
        }
      ]
    },
    {
      "cell_type": "markdown",
      "metadata": {
        "id": "JNLOYFKCAzGi",
        "colab_type": "text"
      },
      "source": [
        "3. Write a python program to calculate the area of a circle "
      ]
    },
    {
      "cell_type": "code",
      "metadata": {
        "id": "3Zt9WlKpEKXp",
        "colab_type": "code",
        "colab": {
          "base_uri": "https://localhost:8080/",
          "height": 50
        },
        "outputId": "1624d2e2-80ac-4a43-c06e-4faaba05d9c0"
      },
      "source": [
        "r=int(input(\"Enter the radius of the circle \"))\n",
        "Area=3.14*(r**2)\n",
        "print(\"The area of the circle is \",Area)"
      ],
      "execution_count": 12,
      "outputs": [
        {
          "output_type": "stream",
          "text": [
            "Enter the radius of the circle 5\n",
            "The area of the circle is  78.5\n"
          ],
          "name": "stdout"
        }
      ]
    },
    {
      "cell_type": "markdown",
      "metadata": {
        "id": "yk1iw9ogFRIx",
        "colab_type": "text"
      },
      "source": [
        "4. Write a python program to calculate the area of triangle "
      ]
    },
    {
      "cell_type": "code",
      "metadata": {
        "id": "YIyro1bXFciG",
        "colab_type": "code",
        "colab": {
          "base_uri": "https://localhost:8080/",
          "height": 67
        },
        "outputId": "800ea507-c201-41ac-fbfe-cfa021f13683"
      },
      "source": [
        "base=float(input(\"Enter the value of the base of the traingle \"))\n",
        "height=float(input(\"Enter the value of the height of triangle \"))\n",
        "Area=(1/2)*(base)*(height)\n",
        "print(\"The area of the triangle is \",Area)"
      ],
      "execution_count": 13,
      "outputs": [
        {
          "output_type": "stream",
          "text": [
            "Enter the value of the base of the traingle 15\n",
            "Enter the value of the height of triangle 20\n",
            "The area of the triangle is  150.0\n"
          ],
          "name": "stdout"
        }
      ]
    },
    {
      "cell_type": "markdown",
      "metadata": {
        "id": "wo-9APb6GN2S",
        "colab_type": "text"
      },
      "source": [
        "5. Write a python program to convert temperature from celsius to fahrenheit"
      ]
    },
    {
      "cell_type": "code",
      "metadata": {
        "id": "xpmliTqsGdPx",
        "colab_type": "code",
        "colab": {
          "base_uri": "https://localhost:8080/",
          "height": 50
        },
        "outputId": "006f2c52-032b-4276-f688-227e843ab86a"
      },
      "source": [
        "C=float(input(\"Enter the temperature in celsius \"))\n",
        "F=(C*(9/5))+32\n",
        "print(\"The temperature after converted to fahrenheit is \",F)"
      ],
      "execution_count": 14,
      "outputs": [
        {
          "output_type": "stream",
          "text": [
            "Enter the temperature in celsius 32\n",
            "The temperature after converted to fahrenheit is  89.6\n"
          ],
          "name": "stdout"
        }
      ]
    },
    {
      "cell_type": "markdown",
      "metadata": {
        "id": "l9U0pujvIHXa",
        "colab_type": "text"
      },
      "source": [
        "6. Write the program to calculate area of rectangle "
      ]
    },
    {
      "cell_type": "code",
      "metadata": {
        "id": "ag4hwnkDIBAA",
        "colab_type": "code",
        "colab": {
          "base_uri": "https://localhost:8080/",
          "height": 67
        },
        "outputId": "e67bb5f9-c516-4d05-eb85-4787fba06923"
      },
      "source": [
        "Length=float(input(\"Enter the length of the rectangle  \"))\n",
        "Breadth=float(input(\"Enter the breadth of the rectangle  \"))\n",
        "Area=Length*Breadth\n",
        "print(\"The area is the rectangle is  \",Area)"
      ],
      "execution_count": 15,
      "outputs": [
        {
          "output_type": "stream",
          "text": [
            "Enter the length of the rectangle  15\n",
            "Enter the breadth of the rectangle  45\n",
            "The area is the rectangle is   675.0\n"
          ],
          "name": "stdout"
        }
      ]
    },
    {
      "cell_type": "markdown",
      "metadata": {
        "id": "v-lyfLjzJyQL",
        "colab_type": "text"
      },
      "source": [
        "7. Write a python program to calculate perimeter of a square "
      ]
    },
    {
      "cell_type": "code",
      "metadata": {
        "id": "ENj0IBq0MkR0",
        "colab_type": "code",
        "colab": {
          "base_uri": "https://localhost:8080/",
          "height": 50
        },
        "outputId": "96b33662-67ea-4923-e3ee-32a3ad29e11e"
      },
      "source": [
        "a=float(input(\"Enter the value of the side of the square \"))\n",
        "print(\"The perimeter of the square is \",4*a)"
      ],
      "execution_count": 17,
      "outputs": [
        {
          "output_type": "stream",
          "text": [
            "Enter the value of the side of the square 4\n",
            "The perimeter of the square is  16.0\n"
          ],
          "name": "stdout"
        }
      ]
    },
    {
      "cell_type": "markdown",
      "metadata": {
        "id": "cDUlisBVNnS0",
        "colab_type": "text"
      },
      "source": [
        "8. Write a python program to calculate circumference of a circle"
      ]
    },
    {
      "cell_type": "code",
      "metadata": {
        "id": "WbLAqS9DIgFi",
        "colab_type": "code",
        "colab": {
          "base_uri": "https://localhost:8080/",
          "height": 50
        },
        "outputId": "649178b7-2919-47e3-9dae-8f0d010e550b"
      },
      "source": [
        "r=float(input(\"Enter the radius of the circle \"))\n",
        "Cir=2*(3.14)*r\n",
        "print(\"The circumference of the circle is \",Cir)"
      ],
      "execution_count": 19,
      "outputs": [
        {
          "output_type": "stream",
          "text": [
            "Enter the radius of the circle 12\n",
            "The circumference of the circle is  75.36\n"
          ],
          "name": "stdout"
        }
      ]
    },
    {
      "cell_type": "markdown",
      "metadata": {
        "id": "6gaA_Z0fOZgh",
        "colab_type": "text"
      },
      "source": [
        "9. Write a python program to swap two number "
      ]
    },
    {
      "cell_type": "code",
      "metadata": {
        "id": "u4r-SULCOEoE",
        "colab_type": "code",
        "colab": {
          "base_uri": "https://localhost:8080/",
          "height": 67
        },
        "outputId": "66c2c3f1-ca40-4814-d83d-e7f8f938d475"
      },
      "source": [
        "a=int(input(\"Enter the first value \"))\n",
        "b=int(input(\"Enter the second value \"))\n",
        "a=a+b\n",
        "b=a-b\n",
        "a=a-b\n",
        "print(\"After swapping, the numbers are \",a,b)"
      ],
      "execution_count": 20,
      "outputs": [
        {
          "output_type": "stream",
          "text": [
            "Enter the first value 5\n",
            "Enter the second value 7\n",
            "After swapping, the numbers are  7 5\n"
          ],
          "name": "stdout"
        }
      ]
    },
    {
      "cell_type": "code",
      "metadata": {
        "id": "peeKjLH6P6sF",
        "colab_type": "code",
        "colab": {}
      },
      "source": [
        ""
      ],
      "execution_count": null,
      "outputs": []
    }
  ]
}