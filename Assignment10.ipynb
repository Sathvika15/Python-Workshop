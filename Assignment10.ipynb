{
  "nbformat": 4,
  "nbformat_minor": 0,
  "metadata": {
    "colab": {
      "name": "Assignment10.ipynb",
      "provenance": [],
      "collapsed_sections": [],
      "authorship_tag": "ABX9TyNspHJTmpE/CpKUSNpV0C3c",
      "include_colab_link": true
    },
    "kernelspec": {
      "name": "python3",
      "display_name": "Python 3"
    }
  },
  "cells": [
    {
      "cell_type": "markdown",
      "metadata": {
        "id": "view-in-github",
        "colab_type": "text"
      },
      "source": [
        "<a href=\"https://colab.research.google.com/github/Sathvika15/Python-Workshop/blob/master/Assignment10.ipynb\" target=\"_parent\"><img src=\"https://colab.research.google.com/assets/colab-badge.svg\" alt=\"Open In Colab\"/></a>"
      ]
    },
    {
      "cell_type": "markdown",
      "metadata": {
        "id": "NRk37ciX7tp1",
        "colab_type": "text"
      },
      "source": [
        "**MODULE 3 ASSIGNMENT 2**"
      ]
    },
    {
      "cell_type": "markdown",
      "metadata": {
        "id": "HHJU_crm7xP4",
        "colab_type": "text"
      },
      "source": [
        "Program to find the largest and the smallest number "
      ]
    },
    {
      "cell_type": "code",
      "metadata": {
        "id": "KRUujoWY4_vS",
        "colab_type": "code",
        "colab": {
          "base_uri": "https://localhost:8080/",
          "height": 50
        },
        "outputId": "fb1094ae-a76d-4e5c-a7f6-d026d23db030"
      },
      "source": [
        "list1=[1,5,2,7,0,18]\n",
        "print(\"The largest number in the list is \",max(list1))\n",
        "print(\"The smallest number in the list is \",min(list1))\n"
      ],
      "execution_count": 27,
      "outputs": [
        {
          "output_type": "stream",
          "text": [
            "The largest number in the list is  18\n",
            "The smallest number in the list is  0\n"
          ],
          "name": "stdout"
        }
      ]
    },
    {
      "cell_type": "markdown",
      "metadata": {
        "id": "ZYk-q76-7-7q",
        "colab_type": "text"
      },
      "source": [
        "Program to remove duplicates from the list "
      ]
    },
    {
      "cell_type": "code",
      "metadata": {
        "id": "dKpjz-6R-wVy",
        "colab_type": "code",
        "colab": {
          "base_uri": "https://localhost:8080/",
          "height": 50
        },
        "outputId": "96517048-3e62-4ec1-d9ff-64adc1d1d6a4"
      },
      "source": [
        "def duplicate(list1):\n",
        "  list2=[]\n",
        "  for i in list1:\n",
        "    if i not in list2:\n",
        "      list2.append(i)\n",
        "  return list2\n",
        "list1=[1,2,5,2,5,7,2,3,9,1,4,6,7]\n",
        "print(\"The list before removing the duplicates is\",list1)\n",
        "print(\"The new list is \",duplicate(list1))"
      ],
      "execution_count": 7,
      "outputs": [
        {
          "output_type": "stream",
          "text": [
            "The list before removing the duplicates is [1, 2, 5, 2, 5, 7, 2, 3, 9, 1, 4, 6, 7]\n",
            "The new list is  [1, 2, 5, 7, 3, 9, 4, 6]\n"
          ],
          "name": "stdout"
        }
      ]
    },
    {
      "cell_type": "markdown",
      "metadata": {
        "id": "4Ut2pPG1AKMH",
        "colab_type": "text"
      },
      "source": [
        "Program to check whether the list is empty or no"
      ]
    },
    {
      "cell_type": "code",
      "metadata": {
        "id": "dBRl3fbeAR4-",
        "colab_type": "code",
        "colab": {
          "base_uri": "https://localhost:8080/",
          "height": 34
        },
        "outputId": "b73c2dee-576e-47a9-b10f-71a44f57962b"
      },
      "source": [
        "list1=[]\n",
        "if len(list1)==0:\n",
        "  print(\"The given list is an EMPTY LIST \")\n",
        "else:\n",
        "  print(\"The given list is not an empty list \")  "
      ],
      "execution_count": 17,
      "outputs": [
        {
          "output_type": "stream",
          "text": [
            "The given list is an EMPTY LIST \n"
          ],
          "name": "stdout"
        }
      ]
    },
    {
      "cell_type": "markdown",
      "metadata": {
        "id": "gCUa31xzC1A5",
        "colab_type": "text"
      },
      "source": [
        "Program to clone or copy a list "
      ]
    },
    {
      "cell_type": "code",
      "metadata": {
        "id": "lLulqvX9BW6p",
        "colab_type": "code",
        "colab": {
          "base_uri": "https://localhost:8080/",
          "height": 67
        },
        "outputId": "de06fd65-29a1-47a8-b11b-8e686a21790d"
      },
      "source": [
        "print(\"The original list is \")\n",
        "list1=[1,2,3,4,5]\n",
        "print(list1)\n",
        "list2=[]\n",
        "list2=list2+list1\n",
        "print(\"The list after copying is\",list2)  "
      ],
      "execution_count": 22,
      "outputs": [
        {
          "output_type": "stream",
          "text": [
            "The original list is \n",
            "[1, 2, 3, 4, 5]\n",
            "The list after copying is [1, 2, 3, 4, 5]\n"
          ],
          "name": "stdout"
        }
      ]
    },
    {
      "cell_type": "markdown",
      "metadata": {
        "id": "EBQQU5TAEz6_",
        "colab_type": "text"
      },
      "source": [
        "Program to print a specific list after removing few elements"
      ]
    },
    {
      "cell_type": "code",
      "metadata": {
        "id": "mRshhlF2EoIp",
        "colab_type": "code",
        "colab": {
          "base_uri": "https://localhost:8080/",
          "height": 50
        },
        "outputId": "887c817a-7b79-4495-efb7-accc2d6393b9"
      },
      "source": [
        "list1=['Red','Green','Yellow','Orange','Purple','Black','Blue','Violet']\n",
        "print(\"The original list is \",list1)\n",
        "list1.pop(0)\n",
        "list1.pop(4)\n",
        "list1.pop(5)\n",
        "print(\"The list after removal of elements is \",list1)"
      ],
      "execution_count": 29,
      "outputs": [
        {
          "output_type": "stream",
          "text": [
            "The original list is  ['Red', 'Green', 'Yellow', 'Orange', 'Purple', 'Black', 'Blue', 'Violet']\n",
            "The list after removal of elements is  ['Green', 'Yellow', 'Orange', 'Purple', 'Blue']\n"
          ],
          "name": "stdout"
        }
      ]
    },
    {
      "cell_type": "markdown",
      "metadata": {
        "id": "Tv7W0nTuHPSa",
        "colab_type": "text"
      },
      "source": [
        "Program to remove even numbers"
      ]
    },
    {
      "cell_type": "code",
      "metadata": {
        "id": "WQzIDqEeJYLn",
        "colab_type": "code",
        "colab": {
          "base_uri": "https://localhost:8080/",
          "height": 50
        },
        "outputId": "2a6e2625-20a1-4f57-b08e-4aa727258915"
      },
      "source": [
        "list1=[1,2,3,4,5,6,7,8,9,10]\n",
        "print(\"The original list is\",list1)\n",
        "for i in list1:\n",
        "  if (i%2==0):\n",
        "    list1.remove(i)\n",
        "print(\"The list after removing even numbers is \",list1)\n"
      ],
      "execution_count": 16,
      "outputs": [
        {
          "output_type": "stream",
          "text": [
            "The original list is [1, 2, 3, 4, 5, 6, 7, 8, 9, 10]\n",
            "The list after removing even numbers is  [1, 3, 5, 7, 9]\n"
          ],
          "name": "stdout"
        }
      ]
    },
    {
      "cell_type": "markdown",
      "metadata": {
        "id": "P1RtuBBjJ_bo",
        "colab_type": "text"
      },
      "source": [
        "Program to shuffle and print it "
      ]
    },
    {
      "cell_type": "code",
      "metadata": {
        "id": "73ZTY4dXJryg",
        "colab_type": "code",
        "colab": {
          "base_uri": "https://localhost:8080/",
          "height": 50
        },
        "outputId": "926d1b2c-ca6c-4be2-ead5-eb67bea95e15"
      },
      "source": [
        "import random\n",
        "list1=[10,20,30,40,50,60,70,80,90,100]\n",
        "print(\"The actual list is \",list1)\n",
        "random.shuffle(list1)\n",
        "print(\"The shuffled list is \",list1)"
      ],
      "execution_count": 19,
      "outputs": [
        {
          "output_type": "stream",
          "text": [
            "The actual list is  [10, 20, 30, 40, 50, 60, 70, 80, 90, 100]\n",
            "The shuffled list is  [30, 100, 80, 70, 10, 40, 90, 20, 50, 60]\n"
          ],
          "name": "stdout"
        }
      ]
    },
    {
      "cell_type": "code",
      "metadata": {
        "id": "tfjlWoqrKeHQ",
        "colab_type": "code",
        "colab": {
          "base_uri": "https://localhost:8080/",
          "height": 34
        },
        "outputId": "7d921769-5910-4a4c-ec99-997674d12809"
      },
      "source": [
        "list1=[10,20,30,40,50]\n",
        "list2=[10,30]\n",
        "list3=set(list1)-set(list2)\n",
        "print(\"The difference between the two lists is\",list3)"
      ],
      "execution_count": 30,
      "outputs": [
        {
          "output_type": "stream",
          "text": [
            "The difference between the two lists is {40, 50, 20}\n"
          ],
          "name": "stdout"
        }
      ]
    },
    {
      "cell_type": "code",
      "metadata": {
        "id": "6zWkQ5e4LBr3",
        "colab_type": "code",
        "colab": {}
      },
      "source": [
        ""
      ],
      "execution_count": null,
      "outputs": []
    }
  ]
}