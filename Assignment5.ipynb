{
  "nbformat": 4,
  "nbformat_minor": 0,
  "metadata": {
    "colab": {
      "name": "Assignment5.ipynb",
      "provenance": [],
      "collapsed_sections": [],
      "authorship_tag": "ABX9TyMj82r4K+ich72OgcPDzB0i",
      "include_colab_link": true
    },
    "kernelspec": {
      "name": "python3",
      "display_name": "Python 3"
    }
  },
  "cells": [
    {
      "cell_type": "markdown",
      "metadata": {
        "id": "view-in-github",
        "colab_type": "text"
      },
      "source": [
        "<a href=\"https://colab.research.google.com/github/Sathvika15/Python-Workshop/blob/master/Assignment5.ipynb\" target=\"_parent\"><img src=\"https://colab.research.google.com/assets/colab-badge.svg\" alt=\"Open In Colab\"/></a>"
      ]
    },
    {
      "cell_type": "markdown",
      "metadata": {
        "id": "qrTyPZu3HEpF",
        "colab_type": "text"
      },
      "source": [
        "Program to find the area of the circle "
      ]
    },
    {
      "cell_type": "code",
      "metadata": {
        "id": "iiL4FfVNEQVe",
        "colab_type": "code",
        "colab": {
          "base_uri": "https://localhost:8080/",
          "height": 50
        },
        "outputId": "bb9abaea-bfc5-4863-b432-8a8c743cf7cf"
      },
      "source": [
        "import math\n",
        "r=float(input(\"Enter the radius of the circle \"))\n",
        "Area=math.pi*(r**2)\n",
        "print(\"The area of the circle is \",Area)"
      ],
      "execution_count": null,
      "outputs": [
        {
          "output_type": "stream",
          "text": [
            "Enter the radius of the circle 4\n",
            "The area of the circle is  50.26548245743669\n"
          ],
          "name": "stdout"
        }
      ]
    },
    {
      "cell_type": "markdown",
      "metadata": {
        "id": "Twry-2KSIGD2",
        "colab_type": "text"
      },
      "source": [
        "Porgram to find the area of a polygon "
      ]
    },
    {
      "cell_type": "code",
      "metadata": {
        "id": "3BXCPhuPHp8y",
        "colab_type": "code",
        "colab": {
          "base_uri": "https://localhost:8080/",
          "height": 67
        },
        "outputId": "d660ddce-70fe-4b25-c95d-b6f6b151b0b1"
      },
      "source": [
        "import math \n",
        "n=float(input(\"Enter the number of sides of the polygon \"))\n",
        "a=float(input(\"Enter the length of the side of the polygon \"))\n",
        "Area=(n * (math.pow(a,2)))/(4 * math.tan(math.pi/n))\n",
        "print(\"The area of the polygon is \",Area)"
      ],
      "execution_count": null,
      "outputs": [
        {
          "output_type": "stream",
          "text": [
            "Enter the number of sides of the polygon 5\n",
            "Enter the length of the side of the polygon 10\n",
            "The area of the polygon is  172.0477400588967\n"
          ],
          "name": "stdout"
        }
      ]
    },
    {
      "cell_type": "markdown",
      "metadata": {
        "id": "9Y4tgHOYNlG_",
        "colab_type": "text"
      },
      "source": [
        "Program to find the area of the segment of a circle"
      ]
    },
    {
      "cell_type": "code",
      "metadata": {
        "id": "eZoItJgxNWV1",
        "colab_type": "code",
        "colab": {
          "base_uri": "https://localhost:8080/",
          "height": 67
        },
        "outputId": "4371447d-921b-4111-bc9f-b3f2c4458717"
      },
      "source": [
        "import math\n",
        "r=float(input(\"Enter the radius of the circle \"))\n",
        "O=float(input(\"Enter the angle os the segment \"))\n",
        "if O<=360:\n",
        "  Area=(math.pi) * (r**2) * (O/360)\n",
        "  print(\"The area of the segment of the circle is \",Area)\n",
        "else:\n",
        "  print(\"INVALID\")  "
      ],
      "execution_count": null,
      "outputs": [
        {
          "output_type": "stream",
          "text": [
            "Enter the radius of the circle 40\n",
            "Enter the angle os the segment 60\n",
            "The area of the segment of the circle is  837.7580409572781\n"
          ],
          "name": "stdout"
        }
      ]
    },
    {
      "cell_type": "markdown",
      "metadata": {
        "id": "vXIR_xl0P_sI",
        "colab_type": "text"
      },
      "source": [
        "Program to suffle the list "
      ]
    },
    {
      "cell_type": "code",
      "metadata": {
        "id": "roLOTslKPDlm",
        "colab_type": "code",
        "colab": {
          "base_uri": "https://localhost:8080/",
          "height": 34
        },
        "outputId": "5cb564d5-d1c7-4a0d-a6d9-4b02a0f7003a"
      },
      "source": [
        "import random\n",
        "l1=[100,1,2,3,30,40,\"hai\",\"hello\"]\n",
        "random.shuffle(l1)\n",
        "print(\"The suffled list : \",l1)\n"
      ],
      "execution_count": 17,
      "outputs": [
        {
          "output_type": "stream",
          "text": [
            "The suffled list :  ['hello', 1, 3, 30, 100, 40, 2, 'hai']\n"
          ],
          "name": "stdout"
        }
      ]
    },
    {
      "cell_type": "markdown",
      "metadata": {
        "id": "maGjrsIBQ4Lm",
        "colab_type": "text"
      },
      "source": [
        "Program to generate random numbers"
      ]
    },
    {
      "cell_type": "code",
      "metadata": {
        "id": "HJWtPEoyQZp7",
        "colab_type": "code",
        "colab": {
          "base_uri": "https://localhost:8080/",
          "height": 34
        },
        "outputId": "8a743102-64d3-4ea0-b37b-05d9e5dc86a1"
      },
      "source": [
        "import random\n",
        "x=random.randrange(1,10000,50)\n",
        "print(\"The random number from the given range is \",x)"
      ],
      "execution_count": 1,
      "outputs": [
        {
          "output_type": "stream",
          "text": [
            "The random number from the given range is  2301\n"
          ],
          "name": "stdout"
        }
      ]
    },
    {
      "cell_type": "markdown",
      "metadata": {
        "id": "prcSlUaORetu",
        "colab_type": "text"
      },
      "source": [
        "Programs using math function"
      ]
    },
    {
      "cell_type": "code",
      "metadata": {
        "id": "Uh3wGE2WRbBo",
        "colab_type": "code",
        "colab": {
          "base_uri": "https://localhost:8080/",
          "height": 202
        },
        "outputId": "c568bd7e-1ad4-441b-98fd-e77fcfb0c5b0"
      },
      "source": [
        "import math\n",
        "print(\"The sin of angle 60 degrees is \",math.sin(60))\n",
        "print(\"The cos value of pi is \",math.cos(math.pi))\n",
        "print(\"The tan value of 90 degrees is \",math.tan(90))\n",
        "print(\"The sin of the given angle is \",math.sinh(0.8660254037844386))\n",
        "print(\"The power of the given value gives \",math.pow(5,8))\n",
        "print(\"The square root of 400 is \",math.sqrt(400))\n",
        "print(\"The value of 5 raised to e is \",math.pow(5,math.e))\n",
        "print(\"The result of the given log value is\",math.log(1024,2))\n",
        "print(\"The result of the given log value is\",math.log(1024,10))\n",
        "x=math.floor(23.56)\n",
        "y=math.ceil(23.56)\n",
        "print(\"The float value of 23.56 is \",x)\n",
        "print(\"The ceil value of 23.56 is \",y)\n",
        "\n",
        "\n",
        "\n",
        "\n"
      ],
      "execution_count": 13,
      "outputs": [
        {
          "output_type": "stream",
          "text": [
            "The sin of angle 60 degrees is  -0.3048106211022167\n",
            "The cos value of pi is  -1.0\n",
            "The tan value of 90 degrees is  -1.995200412208242\n",
            "The sin of the given angle is  0.9784113245910249\n",
            "The power of the given value gives  390625.0\n",
            "The square root of 400 is  20.0\n",
            "The value of 5 raised to e is  79.43235916621322\n",
            "The result of the given log value is 10.0\n",
            "The result of the given log value is 3.0102999566398116\n",
            "The float value of 23.56 is  23\n",
            "The ceil value of 23.56 is  24\n"
          ],
          "name": "stdout"
        }
      ]
    },
    {
      "cell_type": "code",
      "metadata": {
        "id": "9_brLpRA0alI",
        "colab_type": "code",
        "colab": {}
      },
      "source": [
        ""
      ],
      "execution_count": null,
      "outputs": []
    }
  ]
}