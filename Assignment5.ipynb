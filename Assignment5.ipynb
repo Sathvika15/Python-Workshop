{
  "nbformat": 4,
  "nbformat_minor": 0,
  "metadata": {
    "colab": {
      "name": "Assignment5.ipynb",
      "provenance": [],
      "collapsed_sections": [],
      "authorship_tag": "ABX9TyPtTzblCldGmULV7oAC4b5l",
      "include_colab_link": true
    },
    "kernelspec": {
      "name": "python3",
      "display_name": "Python 3"
    }
  },
  "cells": [
    {
      "cell_type": "markdown",
      "metadata": {
        "id": "view-in-github",
        "colab_type": "text"
      },
      "source": [
        "<a href=\"https://colab.research.google.com/github/Sathvika15/Python-Workshop/blob/master/Assignment5.ipynb\" target=\"_parent\"><img src=\"https://colab.research.google.com/assets/colab-badge.svg\" alt=\"Open In Colab\"/></a>"
      ]
    },
    {
      "cell_type": "markdown",
      "metadata": {
        "id": "qrTyPZu3HEpF",
        "colab_type": "text"
      },
      "source": [
        "Program to find the area of the circle "
      ]
    },
    {
      "cell_type": "code",
      "metadata": {
        "id": "iiL4FfVNEQVe",
        "colab_type": "code",
        "colab": {
          "base_uri": "https://localhost:8080/",
          "height": 50
        },
        "outputId": "bb9abaea-bfc5-4863-b432-8a8c743cf7cf"
      },
      "source": [
        "import math\n",
        "r=float(input(\"Enter the radius of the circle \"))\n",
        "Area=math.pi*(r**2)\n",
        "print(\"The area of the circle is \",Area)"
      ],
      "execution_count": null,
      "outputs": [
        {
          "output_type": "stream",
          "text": [
            "Enter the radius of the circle 4\n",
            "The area of the circle is  50.26548245743669\n"
          ],
          "name": "stdout"
        }
      ]
    },
    {
      "cell_type": "markdown",
      "metadata": {
        "id": "Twry-2KSIGD2",
        "colab_type": "text"
      },
      "source": [
        "Porgram to find the area of a polygon "
      ]
    },
    {
      "cell_type": "code",
      "metadata": {
        "id": "3BXCPhuPHp8y",
        "colab_type": "code",
        "colab": {
          "base_uri": "https://localhost:8080/",
          "height": 67
        },
        "outputId": "d660ddce-70fe-4b25-c95d-b6f6b151b0b1"
      },
      "source": [
        "import math \n",
        "n=float(input(\"Enter the number of sides of the polygon \"))\n",
        "a=float(input(\"Enter the length of the side of the polygon \"))\n",
        "Area=(n * (math.pow(a,2)))/(4 * math.tan(math.pi/n))\n",
        "print(\"The area of the polygon is \",Area)"
      ],
      "execution_count": null,
      "outputs": [
        {
          "output_type": "stream",
          "text": [
            "Enter the number of sides of the polygon 5\n",
            "Enter the length of the side of the polygon 10\n",
            "The area of the polygon is  172.0477400588967\n"
          ],
          "name": "stdout"
        }
      ]
    },
    {
      "cell_type": "markdown",
      "metadata": {
        "id": "9Y4tgHOYNlG_",
        "colab_type": "text"
      },
      "source": [
        "Program to find the area of the segment of a circle"
      ]
    },
    {
      "cell_type": "code",
      "metadata": {
        "id": "eZoItJgxNWV1",
        "colab_type": "code",
        "colab": {
          "base_uri": "https://localhost:8080/",
          "height": 67
        },
        "outputId": "4371447d-921b-4111-bc9f-b3f2c4458717"
      },
      "source": [
        "import math\n",
        "r=float(input(\"Enter the radius of the circle \"))\n",
        "O=float(input(\"Enter the angle os the segment \"))\n",
        "if O<=360:\n",
        "  Area=(math.pi) * (r**2) * (O/360)\n",
        "  print(\"The area of the segment of the circle is \",Area)\n",
        "else:\n",
        "  print(\"INVALID\")  "
      ],
      "execution_count": 1,
      "outputs": [
        {
          "output_type": "stream",
          "text": [
            "Enter the radius of the circle 40\n",
            "Enter the angle os the segment 60\n",
            "The area of the segment of the circle is  837.7580409572781\n"
          ],
          "name": "stdout"
        }
      ]
    },
    {
      "cell_type": "markdown",
      "metadata": {
        "id": "vXIR_xl0P_sI",
        "colab_type": "text"
      },
      "source": [
        "Program to suffle the list "
      ]
    },
    {
      "cell_type": "code",
      "metadata": {
        "id": "roLOTslKPDlm",
        "colab_type": "code",
        "colab": {
          "base_uri": "https://localhost:8080/",
          "height": 34
        },
        "outputId": "8786ed44-8513-498e-d790-1f2aab5655d8"
      },
      "source": [
        "import random\n",
        "l1=[100,1,2,3,30,40,\"hai\",\"hello\"]\n",
        "random.shuffle(l1)\n",
        "print(l1)"
      ],
      "execution_count": null,
      "outputs": [
        {
          "output_type": "stream",
          "text": [
            "[3, 'hello', 100, 40, 2, 30, 1, 'hai']\n"
          ],
          "name": "stdout"
        }
      ]
    },
    {
      "cell_type": "markdown",
      "metadata": {
        "id": "maGjrsIBQ4Lm",
        "colab_type": "text"
      },
      "source": [
        "Program to generate random numbers"
      ]
    },
    {
      "cell_type": "code",
      "metadata": {
        "id": "HJWtPEoyQZp7",
        "colab_type": "code",
        "colab": {
          "base_uri": "https://localhost:8080/",
          "height": 34
        },
        "outputId": "46a94c46-68e9-4352-f969-8c5c9c8db23e"
      },
      "source": [
        "import random\n",
        "random.randrange(1,10000,50)"
      ],
      "execution_count": null,
      "outputs": [
        {
          "output_type": "execute_result",
          "data": {
            "text/plain": [
              "7051"
            ]
          },
          "metadata": {
            "tags": []
          },
          "execution_count": 13
        }
      ]
    },
    {
      "cell_type": "markdown",
      "metadata": {
        "id": "prcSlUaORetu",
        "colab_type": "text"
      },
      "source": [
        "Programs using math function"
      ]
    },
    {
      "cell_type": "code",
      "metadata": {
        "id": "Uh3wGE2WRbBo",
        "colab_type": "code",
        "colab": {
          "base_uri": "https://localhost:8080/",
          "height": 202
        },
        "outputId": "abc84d01-492c-4d37-8702-63797d3f794e"
      },
      "source": [
        "import math\n",
        "print(math.sin(60))\n",
        "print(math.cos(math.pi))\n",
        "print(math.tan(90))\n",
        "print(math.sinh(0.8660254037844386))\n",
        "print(math.pow(5,8))\n",
        "print(math.sqrt(400))\n",
        "print(math.pow(5,math.e))\n",
        "print(math.log(1024,2))\n",
        "print(math.log(1024,10))\n",
        "print(math.floor(23.56))\n",
        "print(math.ceil(23.56))"
      ],
      "execution_count": null,
      "outputs": [
        {
          "output_type": "stream",
          "text": [
            "-0.3048106211022167\n",
            "-1.0\n",
            "-1.995200412208242\n",
            "0.9784113245910249\n",
            "390625.0\n",
            "20.0\n",
            "79.43235916621322\n",
            "10.0\n",
            "3.0102999566398116\n",
            "23\n",
            "24\n"
          ],
          "name": "stdout"
        }
      ]
    }
  ]
}