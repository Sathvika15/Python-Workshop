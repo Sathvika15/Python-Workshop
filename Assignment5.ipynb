{
  "nbformat": 4,
  "nbformat_minor": 0,
  "metadata": {
    "colab": {
      "name": "Assignment5.ipynb",
      "provenance": [],
      "collapsed_sections": [],
      "authorship_tag": "ABX9TyOAxTkDB4w7jBH2T4l23gFm",
      "include_colab_link": true
    },
    "kernelspec": {
      "name": "python3",
      "display_name": "Python 3"
    }
  },
  "cells": [
    {
      "cell_type": "markdown",
      "metadata": {
        "id": "view-in-github",
        "colab_type": "text"
      },
      "source": [
        "<a href=\"https://colab.research.google.com/github/Sathvika15/Python-Workshop/blob/master/Assignment5.ipynb\" target=\"_parent\"><img src=\"https://colab.research.google.com/assets/colab-badge.svg\" alt=\"Open In Colab\"/></a>"
      ]
    },
    {
      "cell_type": "markdown",
      "metadata": {
        "id": "qrTyPZu3HEpF",
        "colab_type": "text"
      },
      "source": [
        "Program to find the area of the circle "
      ]
    },
    {
      "cell_type": "code",
      "metadata": {
        "id": "iiL4FfVNEQVe",
        "colab_type": "code",
        "colab": {
          "base_uri": "https://localhost:8080/",
          "height": 50
        },
        "outputId": "bb9abaea-bfc5-4863-b432-8a8c743cf7cf"
      },
      "source": [
        "import math\n",
        "r=float(input(\"Enter the radius of the circle \"))\n",
        "Area=math.pi*(r**2)\n",
        "print(\"The area of the circle is \",Area)"
      ],
      "execution_count": 2,
      "outputs": [
        {
          "output_type": "stream",
          "text": [
            "Enter the radius of the circle 4\n",
            "The area of the circle is  50.26548245743669\n"
          ],
          "name": "stdout"
        }
      ]
    },
    {
      "cell_type": "markdown",
      "metadata": {
        "id": "Twry-2KSIGD2",
        "colab_type": "text"
      },
      "source": [
        "Porgram to find the area of a polygon "
      ]
    },
    {
      "cell_type": "code",
      "metadata": {
        "id": "3BXCPhuPHp8y",
        "colab_type": "code",
        "colab": {
          "base_uri": "https://localhost:8080/",
          "height": 67
        },
        "outputId": "d660ddce-70fe-4b25-c95d-b6f6b151b0b1"
      },
      "source": [
        "import math \n",
        "n=float(input(\"Enter the number of sides of the polygon \"))\n",
        "a=float(input(\"Enter the length of the side of the polygon \"))\n",
        "Area=(n * (math.pow(a,2)))/(4 * math.tan(math.pi/n))\n",
        "print(\"The area of the polygon is \",Area)"
      ],
      "execution_count": 29,
      "outputs": [
        {
          "output_type": "stream",
          "text": [
            "Enter the number of sides of the polygon 5\n",
            "Enter the length of the side of the polygon 10\n",
            "The area of the polygon is  172.0477400588967\n"
          ],
          "name": "stdout"
        }
      ]
    },
    {
      "cell_type": "markdown",
      "metadata": {
        "id": "9Y4tgHOYNlG_",
        "colab_type": "text"
      },
      "source": [
        "Program to find the area of the segment of a circle"
      ]
    },
    {
      "cell_type": "code",
      "metadata": {
        "id": "eZoItJgxNWV1",
        "colab_type": "code",
        "colab": {
          "base_uri": "https://localhost:8080/",
          "height": 67
        },
        "outputId": "e334e2e8-a706-4147-dcba-1147b257bea7"
      },
      "source": [
        "r=float(input(\"Enter the radius of the circle \"))\n",
        "O=float(input(\"Enter the angle os the segment \"))\n",
        "if O<=360:\n",
        "  Area=(1/2) * (r**2) * (O/360)\n",
        "  print(\"The area of the segment of the circle is \",Area)\n",
        "else:\n",
        "  print(\"INVALID\")  "
      ],
      "execution_count": 8,
      "outputs": [
        {
          "output_type": "stream",
          "text": [
            "Enter the radius of the circle 40\n",
            "Enter the angle os the segment 60\n",
            "The area of the segment of the circle is  133.33333333333331\n"
          ],
          "name": "stdout"
        }
      ]
    },
    {
      "cell_type": "markdown",
      "metadata": {
        "id": "vXIR_xl0P_sI",
        "colab_type": "text"
      },
      "source": [
        "Program to suffle the list "
      ]
    },
    {
      "cell_type": "code",
      "metadata": {
        "id": "roLOTslKPDlm",
        "colab_type": "code",
        "colab": {
          "base_uri": "https://localhost:8080/",
          "height": 34
        },
        "outputId": "8786ed44-8513-498e-d790-1f2aab5655d8"
      },
      "source": [
        "import random\n",
        "l1=[100,1,2,3,30,40,\"hai\",\"hello\"]\n",
        "random.shuffle(l1)\n",
        "print(l1)"
      ],
      "execution_count": 12,
      "outputs": [
        {
          "output_type": "stream",
          "text": [
            "[3, 'hello', 100, 40, 2, 30, 1, 'hai']\n"
          ],
          "name": "stdout"
        }
      ]
    },
    {
      "cell_type": "markdown",
      "metadata": {
        "id": "maGjrsIBQ4Lm",
        "colab_type": "text"
      },
      "source": [
        "Program to generate random numbers"
      ]
    },
    {
      "cell_type": "code",
      "metadata": {
        "id": "HJWtPEoyQZp7",
        "colab_type": "code",
        "colab": {
          "base_uri": "https://localhost:8080/",
          "height": 34
        },
        "outputId": "46a94c46-68e9-4352-f969-8c5c9c8db23e"
      },
      "source": [
        "import random\n",
        "random.randrange(1,10000,50)"
      ],
      "execution_count": 13,
      "outputs": [
        {
          "output_type": "execute_result",
          "data": {
            "text/plain": [
              "7051"
            ]
          },
          "metadata": {
            "tags": []
          },
          "execution_count": 13
        }
      ]
    },
    {
      "cell_type": "markdown",
      "metadata": {
        "id": "prcSlUaORetu",
        "colab_type": "text"
      },
      "source": [
        "Programs using math function"
      ]
    },
    {
      "cell_type": "code",
      "metadata": {
        "id": "Uh3wGE2WRbBo",
        "colab_type": "code",
        "colab": {
          "base_uri": "https://localhost:8080/",
          "height": 34
        },
        "outputId": "5479a75d-282f-4059-b235-3aa39f67dda0"
      },
      "source": [
        "import math\n",
        "math.sin(60)\n"
      ],
      "execution_count": 17,
      "outputs": [
        {
          "output_type": "execute_result",
          "data": {
            "text/plain": [
              "-0.3048106211022167"
            ]
          },
          "metadata": {
            "tags": []
          },
          "execution_count": 17
        }
      ]
    },
    {
      "cell_type": "code",
      "metadata": {
        "id": "e9n9CbDqR2-y",
        "colab_type": "code",
        "colab": {
          "base_uri": "https://localhost:8080/",
          "height": 34
        },
        "outputId": "b8a851ae-8906-4717-b5b5-2efe901d495c"
      },
      "source": [
        "math.cos(math.pi)\n"
      ],
      "execution_count": 18,
      "outputs": [
        {
          "output_type": "execute_result",
          "data": {
            "text/plain": [
              "-1.0"
            ]
          },
          "metadata": {
            "tags": []
          },
          "execution_count": 18
        }
      ]
    },
    {
      "cell_type": "code",
      "metadata": {
        "id": "8cUEHZncTAWH",
        "colab_type": "code",
        "colab": {
          "base_uri": "https://localhost:8080/",
          "height": 34
        },
        "outputId": "5a903e28-fd9c-4b40-9285-1943470a6647"
      },
      "source": [
        "math.tan(90)\n"
      ],
      "execution_count": 19,
      "outputs": [
        {
          "output_type": "execute_result",
          "data": {
            "text/plain": [
              "-1.995200412208242"
            ]
          },
          "metadata": {
            "tags": []
          },
          "execution_count": 19
        }
      ]
    },
    {
      "cell_type": "code",
      "metadata": {
        "id": "Cc17vKHLTCy_",
        "colab_type": "code",
        "colab": {
          "base_uri": "https://localhost:8080/",
          "height": 34
        },
        "outputId": "c921f7ee-b780-4f5f-f7b4-2db2882513f8"
      },
      "source": [
        "math.sinh(0.8660254037844386)"
      ],
      "execution_count": 20,
      "outputs": [
        {
          "output_type": "execute_result",
          "data": {
            "text/plain": [
              "0.9784113245910249"
            ]
          },
          "metadata": {
            "tags": []
          },
          "execution_count": 20
        }
      ]
    },
    {
      "cell_type": "code",
      "metadata": {
        "id": "JPCjX8HkTFPz",
        "colab_type": "code",
        "colab": {
          "base_uri": "https://localhost:8080/",
          "height": 34
        },
        "outputId": "952412f6-c666-4d4b-c460-e24fca906f70"
      },
      "source": [
        "math.pow(5,8)"
      ],
      "execution_count": 21,
      "outputs": [
        {
          "output_type": "execute_result",
          "data": {
            "text/plain": [
              "390625.0"
            ]
          },
          "metadata": {
            "tags": []
          },
          "execution_count": 21
        }
      ]
    },
    {
      "cell_type": "code",
      "metadata": {
        "id": "kxlSiloUTOHO",
        "colab_type": "code",
        "colab": {
          "base_uri": "https://localhost:8080/",
          "height": 34
        },
        "outputId": "7c30df46-9ef5-48c5-a575-3277dbe38334"
      },
      "source": [
        "math.sqrt(400)"
      ],
      "execution_count": 22,
      "outputs": [
        {
          "output_type": "execute_result",
          "data": {
            "text/plain": [
              "20.0"
            ]
          },
          "metadata": {
            "tags": []
          },
          "execution_count": 22
        }
      ]
    },
    {
      "cell_type": "code",
      "metadata": {
        "id": "TZZJMfe-TRi4",
        "colab_type": "code",
        "colab": {
          "base_uri": "https://localhost:8080/",
          "height": 34
        },
        "outputId": "194190ff-c885-4225-dcb7-2f063547d2e3"
      },
      "source": [
        "math.pow(5,math.e)"
      ],
      "execution_count": 23,
      "outputs": [
        {
          "output_type": "execute_result",
          "data": {
            "text/plain": [
              "79.43235916621322"
            ]
          },
          "metadata": {
            "tags": []
          },
          "execution_count": 23
        }
      ]
    },
    {
      "cell_type": "code",
      "metadata": {
        "id": "F3t4o6fMTUzl",
        "colab_type": "code",
        "colab": {
          "base_uri": "https://localhost:8080/",
          "height": 34
        },
        "outputId": "e482edc2-c612-46b4-f0fb-9156549df966"
      },
      "source": [
        "math.log(1024,2)"
      ],
      "execution_count": 25,
      "outputs": [
        {
          "output_type": "execute_result",
          "data": {
            "text/plain": [
              "10.0"
            ]
          },
          "metadata": {
            "tags": []
          },
          "execution_count": 25
        }
      ]
    },
    {
      "cell_type": "code",
      "metadata": {
        "id": "vjqhbPFNTZIF",
        "colab_type": "code",
        "colab": {
          "base_uri": "https://localhost:8080/",
          "height": 34
        },
        "outputId": "8d7a7bf7-fedd-4f62-dd21-7c6a9f361157"
      },
      "source": [
        "math.log(1024,10)"
      ],
      "execution_count": 26,
      "outputs": [
        {
          "output_type": "execute_result",
          "data": {
            "text/plain": [
              "3.0102999566398116"
            ]
          },
          "metadata": {
            "tags": []
          },
          "execution_count": 26
        }
      ]
    },
    {
      "cell_type": "code",
      "metadata": {
        "id": "7c0Zn7VXTeGx",
        "colab_type": "code",
        "colab": {
          "base_uri": "https://localhost:8080/",
          "height": 34
        },
        "outputId": "596b83d4-d24d-474d-ccfc-95cc5acb377e"
      },
      "source": [
        "math.floor(23.56)"
      ],
      "execution_count": 27,
      "outputs": [
        {
          "output_type": "execute_result",
          "data": {
            "text/plain": [
              "23"
            ]
          },
          "metadata": {
            "tags": []
          },
          "execution_count": 27
        }
      ]
    },
    {
      "cell_type": "code",
      "metadata": {
        "id": "_sisTcM9ThIP",
        "colab_type": "code",
        "colab": {
          "base_uri": "https://localhost:8080/",
          "height": 34
        },
        "outputId": "83984207-0e8e-4924-b149-084c2a698eb5"
      },
      "source": [
        "math.ceil(23.56)"
      ],
      "execution_count": 28,
      "outputs": [
        {
          "output_type": "execute_result",
          "data": {
            "text/plain": [
              "24"
            ]
          },
          "metadata": {
            "tags": []
          },
          "execution_count": 28
        }
      ]
    },
    {
      "cell_type": "code",
      "metadata": {
        "id": "vaolYCxBTj_J",
        "colab_type": "code",
        "colab": {}
      },
      "source": [
        ""
      ],
      "execution_count": null,
      "outputs": []
    }
  ]
}