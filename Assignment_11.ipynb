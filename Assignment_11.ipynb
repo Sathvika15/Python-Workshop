{
 "cells": [
  {
   "cell_type": "markdown",
   "metadata": {},
   "source": [
    "# MODULE 4 ASSIGNMENT 3"
   ]
  },
  {
   "cell_type": "markdown",
   "metadata": {},
   "source": [
    "1. Program to read an entire text file "
   ]
  },
  {
   "cell_type": "code",
   "execution_count": 5,
   "metadata": {},
   "outputs": [
    {
     "name": "stdout",
     "output_type": "stream",
     "text": [
      "The content in the file is : This is fun !\n"
     ]
    }
   ],
   "source": [
    "f=open(\"Programming.txt\",\"w\")\n",
    "f.write(\"This is fun !\")\n",
    "f.close()\n",
    "\n",
    "#This is for reading a file \n",
    "f=open(\"Programming.txt\",'r')\n",
    "content=f.read()\n",
    "print(\"The content in the file is :\",content)"
   ]
  },
  {
   "cell_type": "markdown",
   "metadata": {},
   "source": [
    "2. Program to read only first 'n' lines of a program "
   ]
  },
  {
   "cell_type": "code",
   "execution_count": 15,
   "metadata": {},
   "outputs": [
    {
     "name": "stdout",
     "output_type": "stream",
     "text": [
      "Enter the number of lines you want 2\n",
      "The  2  lines from the file are \n",
      "\n",
      "\n",
      "Hey there !!!\n",
      "\n",
      "Very Good Morning \n",
      "\n"
     ]
    }
   ],
   "source": [
    "f=open(\"Programming.txt\",'w')\n",
    "s='''\\nHey there !!!\n",
    "Very Good Morning \n",
    "How are you ?? '''\n",
    "f.write(s)\n",
    "f.close()\n",
    "\n",
    "f=open(\"Programming.txt\",'r')\n",
    "n=int(input(\"Enter the number of lines you want \"))\n",
    "print(\"The \",n,\" lines from the file are \")\n",
    "for i in range(n+1):\n",
    "    s=f.readline()\n",
    "    print(s)\n",
    "f.close()    \n",
    "    \n",
    "\n"
   ]
  },
  {
   "cell_type": "markdown",
   "metadata": {},
   "source": [
    "3. Program to append a file and display the content"
   ]
  },
  {
   "cell_type": "code",
   "execution_count": 19,
   "metadata": {},
   "outputs": [],
   "source": [
    "#This part is about how to create a file and write your content in it\n",
    "f=open(\"File1.txt\",'w')\n",
    "s='''\\nHey there !!!\n",
    "Very Good Morning \n",
    "How are you ?? '''\n",
    "f.write(s)\n",
    "f.close()\n"
   ]
  },
  {
   "cell_type": "code",
   "execution_count": 21,
   "metadata": {},
   "outputs": [
    {
     "name": "stdout",
     "output_type": "stream",
     "text": [
      "The content what the file is \n",
      "\n",
      "Hey there !!!\n",
      "Very Good Morning \n",
      "How are you ?? \n",
      "How is your workshop going on ? \n",
      "Is it fun ?\n"
     ]
    }
   ],
   "source": [
    "# This part is the append part\n",
    "f=open(\"File1.txt\",'a')\n",
    "str='''\\nHow is your workshop going on ? \n",
    "Is it fun ?'''\n",
    "f.write(str)\n",
    "f.close()\n",
    "\n",
    "f=open(\"File1.txt\",'r')\n",
    "str=f.read()\n",
    "print(\"The content what the file is \")\n",
    "print(str)"
   ]
  },
  {
   "cell_type": "markdown",
   "metadata": {},
   "source": [
    "4. Program to display last 'n' number of lines "
   ]
  },
  {
   "cell_type": "code",
   "execution_count": 24,
   "metadata": {},
   "outputs": [
    {
     "name": "stdout",
     "output_type": "stream",
     "text": [
      "Enter the number of lines 2\n",
      "The respective lines are : \n",
      "How are you today ?\n",
      "\n",
      "I am great \n"
     ]
    }
   ],
   "source": [
    "f=open(\"File.txt\",'w')\n",
    "count=0\n",
    "s='''Hey there !\n",
    "How are you today ?\n",
    "I am great '''\n",
    "f.write(s)\n",
    "f.close()\n",
    "\n",
    "f=open(\"File.txt\",'r')\n",
    "n=int(input(\"Enter the number of lines \"))\n",
    "s=f.readlines()\n",
    "last=s[-n:]\n",
    "print(\"The respective lines are : \")\n",
    "for s in last:\n",
    "    print(s)\n",
    "f.close()"
   ]
  },
  {
   "cell_type": "markdown",
   "metadata": {},
   "source": [
    "5. Program to read line to line from a file and store it in a variable "
   ]
  },
  {
   "cell_type": "code",
   "execution_count": 30,
   "metadata": {},
   "outputs": [
    {
     "name": "stdout",
     "output_type": "stream",
     "text": [
      "The content from the file line by line is \n",
      "Greetings Everyone\n",
      "Today we are going to learn very simple language \n",
      "PYTHON\n"
     ]
    }
   ],
   "source": [
    "f=open(\"Program2.txt\",'w')\n",
    "r='''Greetings Everyone\n",
    "Today we are going to learn very simple language \n",
    "PYTHON'''\n",
    "f.write(r)\n",
    "f.close()\n",
    "\n",
    "f=open(\"Program2.txt\",'r')\n",
    "r=f.read()\n",
    "print(\"The content from the file line by line is \")\n",
    "print(r)\n",
    "f.close()"
   ]
  },
  {
   "cell_type": "markdown",
   "metadata": {},
   "source": [
    "6. Program to read line to line from a file and store it in a list"
   ]
  },
  {
   "cell_type": "code",
   "execution_count": 31,
   "metadata": {},
   "outputs": [
    {
     "name": "stdout",
     "output_type": "stream",
     "text": [
      "The content from the file line by line in a form of list  \n",
      "['Greetings Everyone\\n', 'Today we are going to learn very simple language \\n', 'PYTHON']\n"
     ]
    }
   ],
   "source": [
    "f=open(\"Program2.txt\",'w')\n",
    "r='''Greetings Everyone\n",
    "Today we are going to learn very simple language \n",
    "PYTHON'''\n",
    "f.write(r)\n",
    "f.close()\n",
    "\n",
    "f=open(\"Program2.txt\",'r')\n",
    "r=f.readlines()\n",
    "print(\"The content from the file line by line in a form of list  \")\n",
    "print(r)\n",
    "f.close()"
   ]
  },
  {
   "cell_type": "markdown",
   "metadata": {},
   "source": [
    "7. Program to read line to line from a file and store it in a array"
   ]
  },
  {
   "cell_type": "code",
   "execution_count": 34,
   "metadata": {},
   "outputs": [
    {
     "name": "stdout",
     "output_type": "stream",
     "text": [
      "The content from the file line by line in a form of array  \n",
      "['Greetings Everyone', 'Today we are going to learn very simple language ', 'PYTHON']\n",
      "Today we are going to learn very simple language \n"
     ]
    }
   ],
   "source": [
    "f=open(\"demo.txt\",'w')\n",
    "r='''Greetings Everyone\n",
    "Today we are going to learn very simple language \n",
    "PYTHON'''\n",
    "f.write(r)\n",
    "f.close()\n",
    "\n",
    "f=open(\"demo.txt\",'r')\n",
    "r=f.read().splitlines()\n",
    "print(\"The content from the file line by line in a form of array  \")\n",
    "print(r)\n",
    "f.close()\n",
    "\n",
    "# You can print specific element too \n",
    "print(r[1])"
   ]
  },
  {
   "cell_type": "markdown",
   "metadata": {},
   "source": [
    "8. Program to count the number of lines in a text file "
   ]
  },
  {
   "cell_type": "code",
   "execution_count": 36,
   "metadata": {},
   "outputs": [
    {
     "name": "stdout",
     "output_type": "stream",
     "text": [
      "The number of lines from the text file are  3\n"
     ]
    }
   ],
   "source": [
    "f=open(\"Program.txt\",'w')\n",
    "count=0\n",
    "s='''Hey there !\n",
    "How are you today ?\n",
    "I am great '''\n",
    "f.write(s)\n",
    "f.close()\n",
    "\n",
    "f1=open(\"Program.txt\",'r')\n",
    "for i in f1:\n",
    "    count=count+1\n",
    "print(\"The number of lines from the text file are \",count)\n",
    "f1.close()\n"
   ]
  },
  {
   "cell_type": "markdown",
   "metadata": {},
   "source": [
    "9. Program to get the file size of a plain file "
   ]
  },
  {
   "cell_type": "code",
   "execution_count": 46,
   "metadata": {},
   "outputs": [
    {
     "name": "stdout",
     "output_type": "stream",
     "text": [
      "The size of the file is  26\n"
     ]
    }
   ],
   "source": [
    "import os\n",
    "f=open('Python1.txt','w')\n",
    "r='''Hello Everyone !\n",
    "Welcome '''\n",
    "f.write(r)\n",
    "f.close()\n",
    "\n",
    "f=\"Python1.txt\"\n",
    "size=os.stat(f)\n",
    "print(\"The size of the file is \",size.st_size)"
   ]
  },
  {
   "cell_type": "markdown",
   "metadata": {},
   "source": [
    "10. Program to copy content of one file to another "
   ]
  },
  {
   "cell_type": "code",
   "execution_count": 53,
   "metadata": {},
   "outputs": [
    {
     "name": "stdout",
     "output_type": "stream",
     "text": [
      "The text from the original file is \n",
      "Hi \n",
      "Hello \n",
      "How you doing ?\n",
      "\n",
      "The copied content from the file is \n",
      "Hi \n",
      "\n",
      "Hello \n",
      "\n",
      "How you doing ?\n"
     ]
    }
   ],
   "source": [
    "f1=open(\"Demo.txt\",'w')\n",
    "s='''Hi \n",
    "Hello \n",
    "How you doing ?'''\n",
    "f1.write(s)\n",
    "print(\"The text from the original file is \")\n",
    "print(s)\n",
    "f1.close()\n",
    "\n",
    "f2=open(\"Demo2.txt\",'w')\n",
    "f3=open(\"Demo.txt\",'r')\n",
    "print(\"\\nThe copied content from the file is \")\n",
    "for i in f3:\n",
    "        f2.write(i)\n",
    "        print(i)\n",
    "f3.close()\n",
    "f2.close()"
   ]
  },
  {
   "cell_type": "code",
   "execution_count": null,
   "metadata": {},
   "outputs": [],
   "source": []
  }
 ],
 "metadata": {
  "kernelspec": {
   "display_name": "Python 3",
   "language": "python",
   "name": "python3"
  },
  "language_info": {
   "codemirror_mode": {
    "name": "ipython",
    "version": 3
   },
   "file_extension": ".py",
   "mimetype": "text/x-python",
   "name": "python",
   "nbconvert_exporter": "python",
   "pygments_lexer": "ipython3",
   "version": "3.7.6"
  }
 },
 "nbformat": 4,
 "nbformat_minor": 4
}
