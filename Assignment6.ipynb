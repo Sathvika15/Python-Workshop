{
  "nbformat": 4,
  "nbformat_minor": 0,
  "metadata": {
    "colab": {
      "name": "Assignment6.ipynb",
      "provenance": [],
      "collapsed_sections": [],
      "authorship_tag": "ABX9TyPbb9GuY4T+eq4MNAgGfl0x",
      "include_colab_link": true
    },
    "kernelspec": {
      "name": "python3",
      "display_name": "Python 3"
    }
  },
  "cells": [
    {
      "cell_type": "markdown",
      "metadata": {
        "id": "view-in-github",
        "colab_type": "text"
      },
      "source": [
        "<a href=\"https://colab.research.google.com/github/Sathvika15/Python-Workshop/blob/master/Assignment6.ipynb\" target=\"_parent\"><img src=\"https://colab.research.google.com/assets/colab-badge.svg\" alt=\"Open In Colab\"/></a>"
      ]
    },
    {
      "cell_type": "markdown",
      "metadata": {
        "id": "--H_-a5D7vnH",
        "colab_type": "text"
      },
      "source": [
        "**MODULE 2 (CHAPTER 1)**"
      ]
    },
    {
      "cell_type": "markdown",
      "metadata": {
        "id": "27plbWO67016",
        "colab_type": "text"
      },
      "source": [
        "Program to convert binary number to a decimal number "
      ]
    },
    {
      "cell_type": "code",
      "metadata": {
        "id": "tdOMGGvm7t-M",
        "colab_type": "code",
        "colab": {
          "base_uri": "https://localhost:8080/",
          "height": 50
        },
        "outputId": "2aa1b305-3d3e-4539-fbe9-48c153b55c3f"
      },
      "source": [
        "import math\n",
        "n=input (\"Enter a number number you want to convert \")\n",
        "x=len(n)\n",
        "count=0\n",
        "for i in range(1,x+1):\n",
        "  count=count+ (int(n[i-1]))*(math.pow(2,(x-i)))\n",
        "print (\"The decimal of the given binary number is \",count)"
      ],
      "execution_count": 6,
      "outputs": [
        {
          "output_type": "stream",
          "text": [
            "Enter a number number you want to convert 10101\n",
            "The decimal of the given binary number is  21.0\n"
          ],
          "name": "stdout"
        }
      ]
    },
    {
      "cell_type": "markdown",
      "metadata": {
        "id": "OgBUDB6N-5Y-",
        "colab_type": "text"
      },
      "source": [
        "Program to generate N number of fibonacci numbers "
      ]
    },
    {
      "cell_type": "code",
      "metadata": {
        "id": "TO67hLq8853V",
        "colab_type": "code",
        "colab": {
          "base_uri": "https://localhost:8080/",
          "height": 134
        },
        "outputId": "2e263855-7269-4a8e-af07-994792cabb81"
      },
      "source": [
        "n=int(input(\"Enter the number of terms you want \"))\n",
        "a1=0\n",
        "a2=1\n",
        "count=0\n",
        "if n==1:\n",
        "  print(\"Your fibonacci series is \",a1)\n",
        "elif n<0:\n",
        "  print(\"INVALID\")\n",
        "else:\n",
        "   print(\"The following Fibonacci series is \")\n",
        "   while count<n:\n",
        "     print(a1)\n",
        "     last=a1+a2\n",
        "     a1=a2\n",
        "     a2=last\n",
        "     count=count+1\n",
        "    "
      ],
      "execution_count": 12,
      "outputs": [
        {
          "output_type": "stream",
          "text": [
            "Enter the number of terms you want 5\n",
            "The following Fibonacci series is \n",
            "0\n",
            "1\n",
            "1\n",
            "2\n",
            "3\n"
          ],
          "name": "stdout"
        }
      ]
    },
    {
      "cell_type": "markdown",
      "metadata": {
        "id": "XZIjwSRkBFvO",
        "colab_type": "text"
      },
      "source": [
        "Program to display a multiplication table "
      ]
    },
    {
      "cell_type": "code",
      "metadata": {
        "id": "ncbuJqNs_Meq",
        "colab_type": "code",
        "colab": {
          "base_uri": "https://localhost:8080/",
          "height": 218
        },
        "outputId": "a896313c-435a-4499-eab1-e9672cf375e8"
      },
      "source": [
        "n=int(input(\"Enter the number to display the multiplication table \"))\n",
        "for i in range(0,11):\n",
        "  print(n,\" x \",i,\" = \",(n*i))"
      ],
      "execution_count": 13,
      "outputs": [
        {
          "output_type": "stream",
          "text": [
            "Enter the number to display the multiplication table 8\n",
            "8  x  0  =  0\n",
            "8  x  1  =  8\n",
            "8  x  2  =  16\n",
            "8  x  3  =  24\n",
            "8  x  4  =  32\n",
            "8  x  5  =  40\n",
            "8  x  6  =  48\n",
            "8  x  7  =  56\n",
            "8  x  8  =  64\n",
            "8  x  9  =  72\n",
            "8  x  10  =  80\n"
          ],
          "name": "stdout"
        }
      ]
    },
    {
      "cell_type": "markdown",
      "metadata": {
        "id": "PZZWGiyIB2O-",
        "colab_type": "text"
      },
      "source": [
        "a) Program to take 10 values from the user and find their avrage"
      ]
    },
    {
      "cell_type": "code",
      "metadata": {
        "id": "t_UPmgfxGI9h",
        "colab_type": "code",
        "colab": {
          "base_uri": "https://localhost:8080/",
          "height": 218
        },
        "outputId": "ab368c50-2c5b-4770-c971-35260617fbda"
      },
      "source": [
        "sum=0\n",
        "print(\"Enter your numbers \")\n",
        "for n in range(1,11):\n",
        "    n=float(input(' '))\n",
        "    sum=sum+n\n",
        "avg=sum/10    \n",
        "print('Average of the given numbers is ', avg)"
      ],
      "execution_count": 36,
      "outputs": [
        {
          "output_type": "stream",
          "text": [
            "Enter your numbers \n",
            " 1\n",
            " 2\n",
            " 3\n",
            " 4\n",
            " 5\n",
            " 6\n",
            " 7\n",
            " 8\n",
            " 9\n",
            " 10\n",
            "Average of the given numbers is  5.5\n"
          ],
          "name": "stdout"
        }
      ]
    },
    {
      "cell_type": "markdown",
      "metadata": {
        "id": "FM6off6_JEjk",
        "colab_type": "text"
      },
      "source": [
        "b) Program to print the pattern "
      ]
    },
    {
      "cell_type": "code",
      "metadata": {
        "id": "fGhYTTD1IWgY",
        "colab_type": "code",
        "colab": {
          "base_uri": "https://localhost:8080/",
          "height": 84
        },
        "outputId": "4ea0ab9c-f9a5-4690-f91d-bcf00cc9189c"
      },
      "source": [
        "for i in range(1,5):\n",
        "  for j in range(1,(i+1)):\n",
        "    print(\"*\",end=' ')\n",
        "  print(\"\\r\")  "
      ],
      "execution_count": 38,
      "outputs": [
        {
          "output_type": "stream",
          "text": [
            "* \r\n",
            "* * \r\n",
            "* * * \r\n",
            "* * * * \r\n"
          ],
          "name": "stdout"
        }
      ]
    },
    {
      "cell_type": "markdown",
      "metadata": {
        "id": "s_yzyXRgLVR7",
        "colab_type": "text"
      },
      "source": [
        "Program to find the GCD and HCF of 2 given numbers "
      ]
    },
    {
      "cell_type": "code",
      "metadata": {
        "id": "XAycx1m-MEAr",
        "colab_type": "code",
        "colab": {
          "base_uri": "https://localhost:8080/",
          "height": 84
        },
        "outputId": "b0031867-0242-40bf-a76c-1610a2ffdd27"
      },
      "source": [
        "a=int(input(\"Enter the first number \"))\n",
        "b=int(input(\"Enter the second number \"))\n",
        "i=1\n",
        "#This part is for the GCD of the two numbers \n",
        "while (i<=a and i<=b):\n",
        "  if(a%i==0 and b%i==0):\n",
        "    gcd=i\n",
        "  i=i+1\n",
        "#This part is for the HCF of the two numbers   \n",
        "if a<b:\n",
        "  least=a\n",
        "else:\n",
        "  least=b  \n",
        "for i in range(1,least+1):\n",
        "  if (a%i==0 and b%i==0):\n",
        "    hcf=i  \n",
        "print(\"GCD of the given two numbers is \", gcd)\n",
        "print(\"HCF of the given two numbers is \",hcf)"
      ],
      "execution_count": 48,
      "outputs": [
        {
          "output_type": "stream",
          "text": [
            "Enter the first number 36\n",
            "Enter the second number 60\n",
            "GCD of the given two numbers is  12\n",
            "HCF of the given two numbers is  12\n"
          ],
          "name": "stdout"
        }
      ]
    },
    {
      "cell_type": "markdown",
      "metadata": {
        "id": "WkDc5YOMPuXI",
        "colab_type": "text"
      },
      "source": [
        "Program to reverse a word "
      ]
    },
    {
      "cell_type": "code",
      "metadata": {
        "id": "7XdU9J7oMXa-",
        "colab_type": "code",
        "colab": {
          "base_uri": "https://localhost:8080/",
          "height": 50
        },
        "outputId": "b212bc29-866f-42d2-8eb0-f11a71de2a0b"
      },
      "source": [
        "a=str(input(\"Enter your word \"))\n",
        "x=a[::-1]\n",
        "print(\"The reverse of the given word is \",x)"
      ],
      "execution_count": 49,
      "outputs": [
        {
          "output_type": "stream",
          "text": [
            "Enter your word Programming\n",
            "The reverse of the given word is  gnimmargorP\n"
          ],
          "name": "stdout"
        }
      ]
    },
    {
      "cell_type": "code",
      "metadata": {
        "id": "_BKrEa8IQD_5",
        "colab_type": "code",
        "colab": {
          "base_uri": "https://localhost:8080/",
          "height": 50
        },
        "outputId": "516fde7c-bebf-4b87-c6f8-353e9a9dc34e"
      },
      "source": [
        "n=[10,5,2,7,3,9,4,6]\n",
        "count=0\n",
        "value=0\n",
        "for i in n:\n",
        "  if (i%2==0):\n",
        "    count=count+1\n",
        "  else:\n",
        "    value=value+1\n",
        "print(\"The number of even numbers present in the series are \",count)\n",
        "print(\"The number of odd numbers present in the series are \",value)      \n",
        "\n"
      ],
      "execution_count": 60,
      "outputs": [
        {
          "output_type": "stream",
          "text": [
            "The number of even numbers present in the series are  4\n",
            "The number of odd numbers present in the series are  4\n"
          ],
          "name": "stdout"
        }
      ]
    },
    {
      "cell_type": "markdown",
      "metadata": {
        "id": "sSy7hGrjVlAf",
        "colab_type": "text"
      },
      "source": [
        "Program to print specific numbers  "
      ]
    },
    {
      "cell_type": "markdown",
      "metadata": {
        "id": "3POy_-jVYb4Y",
        "colab_type": "text"
      },
      "source": [
        "a) First method"
      ]
    },
    {
      "cell_type": "code",
      "metadata": {
        "id": "2MQVzra-SXNJ",
        "colab_type": "code",
        "colab": {
          "base_uri": "https://localhost:8080/",
          "height": 50
        },
        "outputId": "233dccdb-fc63-45a6-b281-2466a0a97481"
      },
      "source": [
        "for x in range(0,7):\n",
        "    if (x==3 or x==6):\n",
        "      continue\n",
        "    print(x,end=' ')\n",
        "print(\"\\n\")"
      ],
      "execution_count": 66,
      "outputs": [
        {
          "output_type": "stream",
          "text": [
            "0 1 2 4 5 \n",
            "\n"
          ],
          "name": "stdout"
        }
      ]
    },
    {
      "cell_type": "markdown",
      "metadata": {
        "id": "eADvc-BvYeyK",
        "colab_type": "text"
      },
      "source": [
        "b) Second method "
      ]
    },
    {
      "cell_type": "code",
      "metadata": {
        "id": "bnwGopSdWPkh",
        "colab_type": "code",
        "colab": {
          "base_uri": "https://localhost:8080/",
          "height": 101
        },
        "outputId": "18b8d49a-b68c-4a0e-b5c1-d99812a9ad3e"
      },
      "source": [
        "for i in range(0,7):\n",
        "    if (i!=3 and i!=6):\n",
        "      print(i)     "
      ],
      "execution_count": 73,
      "outputs": [
        {
          "output_type": "stream",
          "text": [
            "0\n",
            "1\n",
            "2\n",
            "4\n",
            "5\n"
          ],
          "name": "stdout"
        }
      ]
    },
    {
      "cell_type": "code",
      "metadata": {
        "id": "pZMNzSSJX-ox",
        "colab_type": "code",
        "colab": {}
      },
      "source": [
        ""
      ],
      "execution_count": null,
      "outputs": []
    }
  ]
}