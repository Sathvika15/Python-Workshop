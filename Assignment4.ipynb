{
  "nbformat": 4,
  "nbformat_minor": 0,
  "metadata": {
    "colab": {
      "name": "Assignment4.ipynb",
      "provenance": [],
      "collapsed_sections": [],
      "authorship_tag": "ABX9TyMtMGCOILT0aqbxZWmpC2m4",
      "include_colab_link": true
    },
    "kernelspec": {
      "name": "python3",
      "display_name": "Python 3"
    }
  },
  "cells": [
    {
      "cell_type": "markdown",
      "metadata": {
        "id": "view-in-github",
        "colab_type": "text"
      },
      "source": [
        "<a href=\"https://colab.research.google.com/github/Sathvika15/Python-Workshop/blob/master/Assignment4.ipynb\" target=\"_parent\"><img src=\"https://colab.research.google.com/assets/colab-badge.svg\" alt=\"Open In Colab\"/></a>"
      ]
    },
    {
      "cell_type": "markdown",
      "metadata": {
        "id": "-EDUk7mYHZnd",
        "colab_type": "text"
      },
      "source": [
        "**MODULE 2 PYTHON ASSIGNMENT 2**"
      ]
    },
    {
      "cell_type": "markdown",
      "metadata": {
        "id": "-opa1hfDHgqU",
        "colab_type": "text"
      },
      "source": [
        "Program to find max of three numbers"
      ]
    },
    {
      "cell_type": "code",
      "metadata": {
        "id": "Ozkl1_KWHFwi",
        "colab_type": "code",
        "colab": {
          "base_uri": "https://localhost:8080/",
          "height": 84
        },
        "outputId": "1db107df-b04b-45a5-8c8b-fd8d4ff821e2"
      },
      "source": [
        "a=int(input(\"Enter the first number \"))\n",
        "b=int(input(\"Enter the second number \"))\n",
        "c=int(input(\"Enter the third number \"))\n",
        "if a>b:\n",
        "  if a>c:\n",
        "    print(a,\" is the maximum number \")\n",
        "  else:\n",
        "    print(c,\" is the maximum number \")\n",
        "else:\n",
        "  if a>c:\n",
        "    print(b,\" is the maximum number \")\n",
        "  else:\n",
        "    print(c,\" is the maximum number \")     "
      ],
      "execution_count": null,
      "outputs": [
        {
          "output_type": "stream",
          "text": [
            "Enter the first number 98\n",
            "Enter the second number 46\n",
            "Enter the third number 52\n",
            "98  is the maximum number \n"
          ],
          "name": "stdout"
        }
      ]
    },
    {
      "cell_type": "markdown",
      "metadata": {
        "id": "iLV3PuspIgoA",
        "colab_type": "text"
      },
      "source": [
        "Program to reverse a string "
      ]
    },
    {
      "cell_type": "code",
      "metadata": {
        "id": "BnSEbIeHIWd9",
        "colab_type": "code",
        "colab": {
          "base_uri": "https://localhost:8080/",
          "height": 50
        },
        "outputId": "d702e014-6a5a-40f9-fcde-af20c8a19d45"
      },
      "source": [
        "x=str(input(\"Enter your word \"))\n",
        "y=x[::-1]\n",
        "print(\"The reverse of the given string is \",y)"
      ],
      "execution_count": null,
      "outputs": [
        {
          "output_type": "stream",
          "text": [
            "Enter your word Sathvika\n",
            "The reverse of the given string is  akivhtaS\n"
          ],
          "name": "stdout"
        }
      ]
    },
    {
      "cell_type": "markdown",
      "metadata": {
        "id": "dThIcX8iI9rL",
        "colab_type": "text"
      },
      "source": [
        "Program to check whether the number is prime or no "
      ]
    },
    {
      "cell_type": "code",
      "metadata": {
        "id": "S7BN9CZ3I1ld",
        "colab_type": "code",
        "colab": {
          "base_uri": "https://localhost:8080/",
          "height": 50
        },
        "outputId": "b3ef9811-5f5c-4567-e0ec-f6c05bbe2954"
      },
      "source": [
        "n=int(input(\"Enter the number you want to check \"))\n",
        "if n>1:  \n",
        "   for i in range(2,n):  \n",
        "       if(n%i)==0:  \n",
        "           print(\"The number is not a prime number\")  \n",
        "           break  \n",
        "   else:  \n",
        "       print(\"This number is a prime number\")  \n",
        "else:  \n",
        "   print(\"This number is not a prime number\")  \n",
        " \n",
        "\n",
        "\n"
      ],
      "execution_count": null,
      "outputs": [
        {
          "output_type": "stream",
          "text": [
            "Enter the number you want to check 27\n",
            "The number is not a prime number\n"
          ],
          "name": "stdout"
        }
      ]
    },
    {
      "cell_type": "markdown",
      "metadata": {
        "id": "o5qGnCcuNmXj",
        "colab_type": "text"
      },
      "source": [
        "Program to find the sum of the squares of the first n natural numbers "
      ]
    },
    {
      "cell_type": "code",
      "metadata": {
        "id": "R1Ny-JohRZbG",
        "colab_type": "code",
        "colab": {
          "base_uri": "https://localhost:8080/",
          "height": 50
        },
        "outputId": "69ce142f-be3c-4754-81a0-ba807a73e17e"
      },
      "source": [
        "n=int(input(\"Enter the number \"))\n",
        "def square(n):\n",
        "   add=0\n",
        "   for i in range(1, n+1) :\n",
        "      add=add+(i**2)\n",
        "   return add\n",
        "x=square(n)\n",
        "print(\"The sum of the square of the first \",n,\" numbers is \",x)"
      ],
      "execution_count": 1,
      "outputs": [
        {
          "output_type": "stream",
          "text": [
            "Enter the number 6\n",
            "The sum of the square of the first  6  numbers is  91\n"
          ],
          "name": "stdout"
        }
      ]
    },
    {
      "cell_type": "code",
      "metadata": {
        "id": "_zrzhze4VO4Y",
        "colab_type": "code",
        "colab": {}
      },
      "source": [
        ""
      ],
      "execution_count": null,
      "outputs": []
    }
  ]
}