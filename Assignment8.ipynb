{
  "nbformat": 4,
  "nbformat_minor": 0,
  "metadata": {
    "colab": {
      "name": "Assignment8.ipynb",
      "provenance": [],
      "collapsed_sections": [],
      "authorship_tag": "ABX9TyNW6DhNu4RakzXtympxADCr",
      "include_colab_link": true
    },
    "kernelspec": {
      "name": "python3",
      "display_name": "Python 3"
    }
  },
  "cells": [
    {
      "cell_type": "markdown",
      "metadata": {
        "id": "view-in-github",
        "colab_type": "text"
      },
      "source": [
        "<a href=\"https://colab.research.google.com/github/Sathvika15/Python-Workshop/blob/master/Assignment8.ipynb\" target=\"_parent\"><img src=\"https://colab.research.google.com/assets/colab-badge.svg\" alt=\"Open In Colab\"/></a>"
      ]
    },
    {
      "cell_type": "markdown",
      "metadata": {
        "id": "njfxvvbe9oGs",
        "colab_type": "text"
      },
      "source": [
        "**MODULE 3 ASSIGNMENT 3**"
      ]
    },
    {
      "cell_type": "markdown",
      "metadata": {
        "id": "f2AEJxI4fDwP",
        "colab_type": "text"
      },
      "source": [
        "1. Write a program to calculate length of a string"
      ]
    },
    {
      "cell_type": "code",
      "metadata": {
        "id": "cEaeKpdAxA8W",
        "colab_type": "code",
        "colab": {
          "base_uri": "https://localhost:8080/",
          "height": 50
        },
        "outputId": "fdcb7e0e-da29-4298-d021-cfc05b795f76"
      },
      "source": [
        "a=input(\"Enter the string \")\n",
        "print(\"The length of the given string is\",len(a))"
      ],
      "execution_count": 1,
      "outputs": [
        {
          "output_type": "stream",
          "text": [
            "Enter the string Programming \n",
            "The length of the given string is 12\n"
          ],
          "name": "stdout"
        }
      ]
    },
    {
      "cell_type": "markdown",
      "metadata": {
        "id": "sob_m7AefrRv",
        "colab_type": "text"
      },
      "source": [
        "2. Write a program to count number of characters in a string"
      ]
    },
    {
      "cell_type": "code",
      "metadata": {
        "id": "vFh6NaedfXB8",
        "colab_type": "code",
        "colab": {
          "base_uri": "https://localhost:8080/",
          "height": 50
        },
        "outputId": "b43b6281-5129-4a3d-aa3e-9a78f5ef4683"
      },
      "source": [
        "a=input(\"Enter the string \")\n",
        "count=0\n",
        "for i in a:\n",
        "  count=count+1\n",
        "print(\"The number of the characters in the given string are\",count)"
      ],
      "execution_count": null,
      "outputs": [
        {
          "output_type": "stream",
          "text": [
            "Enter the string Hello there ! Good morning \n",
            "The number of the characters in the given string are 27\n"
          ],
          "name": "stdout"
        }
      ]
    },
    {
      "cell_type": "markdown",
      "metadata": {
        "id": "BVEbz_oxv-NT",
        "colab_type": "text"
      },
      "source": [
        "3. Write a python program to get a single string from given two strings, separated by space and swap the first two characters of each string"
      ]
    },
    {
      "cell_type": "code",
      "metadata": {
        "id": "ECfGnlg0v_JT",
        "colab_type": "code",
        "colab": {
          "base_uri": "https://localhost:8080/",
          "height": 67
        },
        "outputId": "799e2a88-4709-4ee4-e1d4-c20b8d7ef188"
      },
      "source": [
        "n1=str(input(\"Enter your first string \"))\n",
        "n2=str(input(\"Enter your second string \"))\n",
        "a=n2[:2]+n1[2:]\n",
        "b=n1[:2]+n2[2:]\n",
        "print(\"The new strings are after swapping are \",a,b)\n"
      ],
      "execution_count": 2,
      "outputs": [
        {
          "output_type": "stream",
          "text": [
            "Enter your first string Python\n",
            "Enter your second string Programming\n",
            "The new strings are after swapping are  Prthon Pyogramming\n"
          ],
          "name": "stdout"
        }
      ]
    },
    {
      "cell_type": "markdown",
      "metadata": {
        "id": "Py3Osx1SiecH",
        "colab_type": "text"
      },
      "source": [
        "4. Write a python script that takes input from user and displays that input in upper and lower case form"
      ]
    },
    {
      "cell_type": "code",
      "metadata": {
        "id": "Cg0JUH_3ggnS",
        "colab_type": "code",
        "colab": {
          "base_uri": "https://localhost:8080/",
          "height": 67
        },
        "outputId": "6e482d2a-9a5d-49fa-b8ca-7c81cae87277"
      },
      "source": [
        "n1=input(\"Enter your string \")\n",
        "print(\"The string when conerted in uppercase gives \",n1.upper())\n",
        "print(\"The string when conerted in lowercase gives \",n1.lower())"
      ],
      "execution_count": null,
      "outputs": [
        {
          "output_type": "stream",
          "text": [
            "Enter your string ProGRAMmiNg Is MY WOrLD\n",
            "The string when conerted in uppercase gives  PROGRAMMING IS MY WORLD\n",
            "The string when conerted in lowercase gives  programming is my world\n"
          ],
          "name": "stdout"
        }
      ]
    },
    {
      "cell_type": "markdown",
      "metadata": {
        "id": "WSodN5GljgO0",
        "colab_type": "text"
      },
      "source": [
        "5. Write a python program to remove a newline in python"
      ]
    },
    {
      "cell_type": "code",
      "metadata": {
        "id": "rcVyHtMDjGZp",
        "colab_type": "code",
        "colab": {
          "base_uri": "https://localhost:8080/",
          "height": 34
        },
        "outputId": "60af4b40-d583-4aa3-fdc2-58f686cf476e"
      },
      "source": [
        "n1='Good morning\\n'\n",
        "print(\"After stripping it gives\",n1.rstrip())"
      ],
      "execution_count": null,
      "outputs": [
        {
          "output_type": "stream",
          "text": [
            "After stripping it gives Good morning\n"
          ],
          "name": "stdout"
        }
      ]
    },
    {
      "cell_type": "markdown",
      "metadata": {
        "id": "rxakN1XbkJfc",
        "colab_type": "text"
      },
      "source": [
        "6. Write a python program to count occurance of a substring in a string"
      ]
    },
    {
      "cell_type": "code",
      "metadata": {
        "id": "-uhdX_XDAmKF",
        "colab_type": "code",
        "colab": {
          "base_uri": "https://localhost:8080/",
          "height": 67
        },
        "outputId": "44dc3874-cd2b-48bb-8271-0418c3f0fe2e"
      },
      "source": [
        "n1=str(input(\"Enter your string \"))\n",
        "n2=str(input(\"Enter a substring from the main string \"))\n",
        "print(n1.count(n2))"
      ],
      "execution_count": null,
      "outputs": [
        {
          "output_type": "stream",
          "text": [
            "Enter your string Programming\n",
            "Enter a substring from the main string m\n",
            "2\n"
          ],
          "name": "stdout"
        }
      ]
    },
    {
      "cell_type": "markdown",
      "metadata": {
        "id": "SdMfoxgWlu-N",
        "colab_type": "text"
      },
      "source": [
        "7. Write a python program to convert string to list "
      ]
    },
    {
      "cell_type": "code",
      "metadata": {
        "id": "nH6pxzzGlbex",
        "colab_type": "code",
        "colab": {
          "base_uri": "https://localhost:8080/",
          "height": 50
        },
        "outputId": "1710b420-bd3d-45ee-9b15-ba8ad15591da"
      },
      "source": [
        "list1='Welcome to the world of coding'\n",
        "print(\"The follwing list is :\")\n",
        "print(list1.split())"
      ],
      "execution_count": null,
      "outputs": [
        {
          "output_type": "stream",
          "text": [
            "The follwing list is :\n",
            "['Welcome', 'to', 'the', 'world', 'of', 'coding']\n"
          ],
          "name": "stdout"
        }
      ]
    },
    {
      "cell_type": "markdown",
      "metadata": {
        "id": "r1yU3dsDpRwG",
        "colab_type": "text"
      },
      "source": [
        "8. Write a python program to perform deletion of a character"
      ]
    },
    {
      "cell_type": "code",
      "metadata": {
        "id": "9tItgR7yoZ4i",
        "colab_type": "code",
        "colab": {
          "base_uri": "https://localhost:8080/",
          "height": 50
        },
        "outputId": "2d5fb356-4224-409a-e64f-5eb017fba203"
      },
      "source": [
        "n1=str(input(\"Enter your string \"))\n",
        "n2=' '\n",
        "for i in range(len(n1)):\n",
        "  if i!=4:\n",
        "    n2=n2+n1[i]\n",
        "print(\"The string after deletion of the character is \",n2)"
      ],
      "execution_count": null,
      "outputs": [
        {
          "output_type": "stream",
          "text": [
            "Enter your string Hello world !\n",
            "The string after deletion of the character is   Hell world !\n"
          ],
          "name": "stdout"
        }
      ]
    },
    {
      "cell_type": "markdown",
      "metadata": {
        "id": "rEHpAOokrn8a",
        "colab_type": "text"
      },
      "source": [
        "9. Write a program to print every character of a string entered by user in a newline using loop"
      ]
    },
    {
      "cell_type": "code",
      "metadata": {
        "id": "cNz5XdE8DaO8",
        "colab_type": "code",
        "colab": {
          "base_uri": "https://localhost:8080/",
          "height": 286
        },
        "outputId": "14032fea-84bc-4086-be22-931b0dff5bab"
      },
      "source": [
        "n1='PYTHON WORKSHOP'\n",
        "print(\"The characters will be shown like :\")\n",
        "for i in n1:\n",
        "  print(i)"
      ],
      "execution_count": null,
      "outputs": [
        {
          "output_type": "stream",
          "text": [
            "The characters will be shown like :\n",
            "P\n",
            "Y\n",
            "T\n",
            "H\n",
            "O\n",
            "N\n",
            " \n",
            "W\n",
            "O\n",
            "R\n",
            "K\n",
            "S\n",
            "H\n",
            "O\n",
            "P\n"
          ],
          "name": "stdout"
        }
      ]
    },
    {
      "cell_type": "markdown",
      "metadata": {
        "id": "wiuyqcLJDpnB",
        "colab_type": "text"
      },
      "source": [
        "10 Program to find the length of the word 'refrigerator' without using the len built in function"
      ]
    },
    {
      "cell_type": "code",
      "metadata": {
        "id": "S1gUVMvRsnzI",
        "colab_type": "code",
        "colab": {
          "base_uri": "https://localhost:8080/",
          "height": 34
        },
        "outputId": "e4662f2d-9875-462d-cee3-12017aec366b"
      },
      "source": [
        "str='refrigerator'\n",
        "count=0\n",
        "for i in str:\n",
        "  count=count+1\n",
        "print(\"The length of the word 'refrigerator' is \",count)"
      ],
      "execution_count": null,
      "outputs": [
        {
          "output_type": "stream",
          "text": [
            "The length of the word 'refrigerator' is  12\n"
          ],
          "name": "stdout"
        }
      ]
    }
  ]
}