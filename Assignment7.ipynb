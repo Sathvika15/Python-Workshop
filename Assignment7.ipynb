{
  "nbformat": 4,
  "nbformat_minor": 0,
  "metadata": {
    "colab": {
      "name": "Assignment7.ipynb",
      "provenance": [],
      "collapsed_sections": [],
      "authorship_tag": "ABX9TyMmt2NriELG+8CU9avVh8ht",
      "include_colab_link": true
    },
    "kernelspec": {
      "name": "python3",
      "display_name": "Python 3"
    }
  },
  "cells": [
    {
      "cell_type": "markdown",
      "metadata": {
        "id": "view-in-github",
        "colab_type": "text"
      },
      "source": [
        "<a href=\"https://colab.research.google.com/github/Sathvika15/Python-Workshop/blob/master/Assignment7.ipynb\" target=\"_parent\"><img src=\"https://colab.research.google.com/assets/colab-badge.svg\" alt=\"Open In Colab\"/></a>"
      ]
    },
    {
      "cell_type": "markdown",
      "metadata": {
        "id": "pwe0U35ni3HS",
        "colab_type": "text"
      },
      "source": [
        "**ASSIGNMENT 2 MODULE 3**"
      ]
    },
    {
      "cell_type": "markdown",
      "metadata": {
        "id": "gxRVRTKDjACX",
        "colab_type": "text"
      },
      "source": [
        "Program to find the square root "
      ]
    },
    {
      "cell_type": "code",
      "metadata": {
        "id": "pvyAyaiUi1L6",
        "colab_type": "code",
        "colab": {
          "base_uri": "https://localhost:8080/",
          "height": 50
        },
        "outputId": "0692dbdd-1528-446d-f905-65d6d158667b"
      },
      "source": [
        "import math\n",
        "a=float(input(\"Enter your number \"))\n",
        "x=math.sqrt(a)\n",
        "print(\"The square root of \",a,\" is \",x) "
      ],
      "execution_count": 1,
      "outputs": [
        {
          "output_type": "stream",
          "text": [
            "Enter your number 3600\n",
            "The square root of  3600.0  is  60.0\n"
          ],
          "name": "stdout"
        }
      ]
    },
    {
      "cell_type": "markdown",
      "metadata": {
        "id": "0Gt4ie88jfBc",
        "colab_type": "text"
      },
      "source": [
        "Program to check whether the number if negative, positive or zero"
      ]
    },
    {
      "cell_type": "code",
      "metadata": {
        "id": "XlliB9eNjYXm",
        "colab_type": "code",
        "colab": {
          "base_uri": "https://localhost:8080/",
          "height": 50
        },
        "outputId": "7a5b837d-c472-45d1-d59b-855907d2f0d6"
      },
      "source": [
        "n=int(input(\"Enter your number \"))\n",
        "if n>0:\n",
        "  print(n, \" is a positive number \")\n",
        "elif n<0:\n",
        "  print(n, \" is a negative number \")\n",
        "else:\n",
        "  print(\"The given number is zero \")    "
      ],
      "execution_count": 2,
      "outputs": [
        {
          "output_type": "stream",
          "text": [
            "Enter your number 16\n",
            "16  is a positive number \n"
          ],
          "name": "stdout"
        }
      ]
    },
    {
      "cell_type": "markdown",
      "metadata": {
        "id": "WZL2igAxj-H0",
        "colab_type": "text"
      },
      "source": [
        "Program to check leap year "
      ]
    },
    {
      "cell_type": "code",
      "metadata": {
        "id": "3HTm6d6fj6W6",
        "colab_type": "code",
        "colab": {
          "base_uri": "https://localhost:8080/",
          "height": 50
        },
        "outputId": "65b74a97-c2e6-48e1-9218-30ff71f40284"
      },
      "source": [
        "n=int(input(\"Enter the year you want to check \"))\n",
        "if n<0:\n",
        "  print(\"INVALID\")\n",
        "if n%4==0:\n",
        "  print(n,\" is a LEAP YEAR !! \")\n",
        "else:\n",
        "  print(n,\" is not a leap year \")    "
      ],
      "execution_count": 3,
      "outputs": [
        {
          "output_type": "stream",
          "text": [
            "Enter the year you want to check 2012\n",
            "2012  is a LEAP YEAR !! \n"
          ],
          "name": "stdout"
        }
      ]
    },
    {
      "cell_type": "markdown",
      "metadata": {
        "id": "WkdZpw9mkdrf",
        "colab_type": "text"
      },
      "source": [
        "Program to print Fibonacci series "
      ]
    },
    {
      "cell_type": "code",
      "metadata": {
        "id": "Cmmzshd-kaQh",
        "colab_type": "code",
        "colab": {
          "base_uri": "https://localhost:8080/",
          "height": 185
        },
        "outputId": "a5460beb-fc31-4365-fc9c-1be713b3cdaa"
      },
      "source": [
        "n=int(input(\"Enter the number of terms you want \"))\n",
        "a1=0\n",
        "a2=1\n",
        "count=0\n",
        "if n==1:\n",
        "  print(\"Your fibonacci series is \",a1)\n",
        "elif n<0:\n",
        "  print(\"INVALID\")\n",
        "else:\n",
        "   print(\"The following Fibonacci series is \")\n",
        "   while count<n:\n",
        "     print(a1)\n",
        "     last=a1+a2\n",
        "     a1=a2\n",
        "     a2=last\n",
        "     count=count+1"
      ],
      "execution_count": 5,
      "outputs": [
        {
          "output_type": "stream",
          "text": [
            "Enter the number of terms you want 8\n",
            "The following Fibonacci series is \n",
            "0\n",
            "1\n",
            "1\n",
            "2\n",
            "3\n",
            "5\n",
            "8\n",
            "13\n"
          ],
          "name": "stdout"
        }
      ]
    },
    {
      "cell_type": "markdown",
      "metadata": {
        "id": "YC1QF2iTlCrn",
        "colab_type": "text"
      },
      "source": [
        "Program to check armstrong number "
      ]
    },
    {
      "cell_type": "code",
      "metadata": {
        "id": "GyrOF5QCnJKS",
        "colab_type": "code",
        "colab": {
          "base_uri": "https://localhost:8080/",
          "height": 50
        },
        "outputId": "b53c9353-5ec1-45aa-c0c7-263b3940f11f"
      },
      "source": [
        "import math\n",
        "n=int(input(\"Enter your number \"))\n",
        "sum=0\n",
        "temp=n\n",
        "while temp!=0:\n",
        "  last=temp%10\n",
        "  sum=sum+math.pow(last,3)\n",
        "  temp=temp//10\n",
        "if n==sum:\n",
        "  print(n,\" is an ARMSTRONG NUMBER \") \n",
        "else:\n",
        "  print(\"It is not an armstrong number \")  "
      ],
      "execution_count": 10,
      "outputs": [
        {
          "output_type": "stream",
          "text": [
            "Enter your number 153\n",
            "153  is an ARMSTRONG NUMBER \n"
          ],
          "name": "stdout"
        }
      ]
    },
    {
      "cell_type": "markdown",
      "metadata": {
        "id": "QETEVadho5i9",
        "colab_type": "text"
      },
      "source": [
        "Program to find a number armstrong number in a interval"
      ]
    },
    {
      "cell_type": "code",
      "metadata": {
        "id": "EA8T-xsLom1_",
        "colab_type": "code",
        "colab": {
          "base_uri": "https://localhost:8080/",
          "height": 168
        },
        "outputId": "03ea9b80-8aa7-49ab-e3e9-39c2a4a29d62"
      },
      "source": [
        "n1=int(input(\"Enter your first number \"))\n",
        "n2=int(input(\"Enter your second number \"))\n",
        "print(\"The armstrong numbers form the interval are \")\n",
        "if n1<n2:\n",
        "  for i in range(n1,n2+1):\n",
        "    sum=0\n",
        "    temp=i\n",
        "    while temp!=0:\n",
        "      last=temp%10\n",
        "      sum=sum+math.pow(last,3)\n",
        "      temp=temp//10\n",
        "    if i==sum:\n",
        "      print(i)\n",
        "         \n"
      ],
      "execution_count": 12,
      "outputs": [
        {
          "output_type": "stream",
          "text": [
            "Enter your first number 0\n",
            "Enter your second number 1000\n",
            "The armstrong numbers form the interval are \n",
            "0\n",
            "1\n",
            "153\n",
            "370\n",
            "371\n",
            "407\n"
          ],
          "name": "stdout"
        }
      ]
    },
    {
      "cell_type": "code",
      "metadata": {
        "id": "ZUJh7jQMq4MR",
        "colab_type": "code",
        "colab": {}
      },
      "source": [
        ""
      ],
      "execution_count": null,
      "outputs": []
    }
  ]
}