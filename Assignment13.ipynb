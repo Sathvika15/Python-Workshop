{
 "cells": [
  {
   "cell_type": "markdown",
   "metadata": {},
   "source": [
    "# MODULE 5     ASSIGNMENT 2"
   ]
  },
  {
   "cell_type": "markdown",
   "metadata": {},
   "source": [
    "### Dictionary Assignment"
   ]
  },
  {
   "cell_type": "markdown",
   "metadata": {},
   "source": [
    "A) What is dictionary in python ?"
   ]
  },
  {
   "cell_type": "markdown",
   "metadata": {},
   "source": [
    "A dictionary is an unordered collection of data in python. It is represented as {key:value}. Dictionary should be enclosed in curly brackets {} and is immutable in nature. The key should be unique and strings,tuples or constants can be used as they are immutable in nature. The value can be repeated as many times as possible. \n",
    "Example is :"
   ]
  },
  {
   "cell_type": "code",
   "execution_count": 2,
   "metadata": {},
   "outputs": [
    {
     "name": "stdout",
     "output_type": "stream",
     "text": [
      "{1: 'Hey', 2: 'Hi', 3: 'Hello', 4: 'Ola'} <class 'dict'>\n"
     ]
    }
   ],
   "source": [
    "d1={1:'Hey',2:'Hi',3:'Hello',4:'Ola'}\n",
    "print(d1,type(d1))"
   ]
  },
  {
   "cell_type": "markdown",
   "metadata": {},
   "source": [
    "B) Program to sum all the items in a list "
   ]
  },
  {
   "cell_type": "code",
   "execution_count": 4,
   "metadata": {},
   "outputs": [
    {
     "name": "stdout",
     "output_type": "stream",
     "text": [
      "The sum of all the elements in the list is  40.0\n"
     ]
    }
   ],
   "source": [
    "list1=[2,3,5,6,7.8,2.2,10,4]\n",
    "sum=0\n",
    "for i in list1:\n",
    "    sum=sum+i\n",
    "print(\"The sum of all the elements in the list is \",sum)"
   ]
  },
  {
   "cell_type": "markdown",
   "metadata": {},
   "source": [
    "C) Program to create a list of empty dictionaries "
   ]
  },
  {
   "cell_type": "code",
   "execution_count": 11,
   "metadata": {},
   "outputs": [
    {
     "name": "stdout",
     "output_type": "stream",
     "text": [
      "Enter the number of times you want to repeat it 10\n",
      "The list of empty dictionaries  [{}, {}, {}, {}, {}, {}, {}, {}, {}, {}]\n"
     ]
    }
   ],
   "source": [
    "d1=dict()\n",
    "n=int(input(\"Enter the number of times you want to repeat it \"))\n",
    "d=[d1]*n\n",
    "print(\"The list of empty dictionaries \",d)"
   ]
  },
  {
   "cell_type": "code",
   "execution_count": null,
   "metadata": {},
   "outputs": [],
   "source": [
    "D) Program to access dictionary keys elements by index "
   ]
  },
  {
   "cell_type": "code",
   "execution_count": 12,
   "metadata": {},
   "outputs": [
    {
     "name": "stdout",
     "output_type": "stream",
     "text": [
      "Enter the index of the value you want 3\n",
      "The element from the dictionary is \n",
      "Wed\n"
     ]
    }
   ],
   "source": [
    "d1={1:'Mon',2:'Tue',3:'Wed',4:'Thurs',5:'Fri',6:'Sat',7:'Sun'}\n",
    "n=int(input(\"Enter the index of the value you want \"))\n",
    "print(\"The element from the dictionary is \")\n",
    "print(d1[n])"
   ]
  },
  {
   "cell_type": "code",
   "execution_count": null,
   "metadata": {},
   "outputs": [],
   "source": [
    "E) Program to iterate over dictionaries "
   ]
  },
  {
   "cell_type": "code",
   "execution_count": 23,
   "metadata": {},
   "outputs": [
    {
     "name": "stdout",
     "output_type": "stream",
     "text": [
      "After going over all the dictionaries their values and keys are \n",
      "Python : 1\n",
      "Java : 2\n",
      "C : 3\n",
      "C++ : 4\n",
      "Dart : 5\n",
      "HTML : 6\n"
     ]
    }
   ],
   "source": [
    "d1={1:'Python',2:'Java',3:'C',4:'C++',5:'Dart',6:'HTML'}\n",
    "print(\"After going over all the dictionaries their values and keys are \")\n",
    "for i in d1:\n",
    "    print(d1[i],\":\",i)"
   ]
  },
  {
   "cell_type": "markdown",
   "metadata": {},
   "source": [
    "F) Program to sum all the items in a dictionary "
   ]
  },
  {
   "cell_type": "code",
   "execution_count": 25,
   "metadata": {},
   "outputs": [
    {
     "name": "stdout",
     "output_type": "stream",
     "text": [
      "The sum of the items in the dictionary is  150\n"
     ]
    }
   ],
   "source": [
    "d1={1:10,2:20,3:30,4:40,5:50}\n",
    "sum=0\n",
    "for i in d1:\n",
    "    sum=sum+d1[i]\n",
    "print(\"The sum of the items in the dictionary is \",sum)\n",
    "    \n"
   ]
  },
  {
   "cell_type": "markdown",
   "metadata": {},
   "source": [
    "G) Program to concatenate the given dictionaries "
   ]
  },
  {
   "cell_type": "code",
   "execution_count": 30,
   "metadata": {},
   "outputs": [
    {
     "name": "stdout",
     "output_type": "stream",
     "text": [
      "The concatenated dictionary is \n",
      "{1: 10, 2: 20, 3: 30, 4: 40, 5: 50, 6: 60}\n"
     ]
    }
   ],
   "source": [
    "dic1={1:10,2:20}\n",
    "dic2={3:30,4:40}\n",
    "dic3={5:50,6:60}\n",
    "\n",
    "#The update function concatenates the dictionaries together \n",
    "dic2.update(dic3)\n",
    "dic1.update(dic2)\n",
    "print(\"The concatenated dictionary is \")\n",
    "print(dic1)"
   ]
  },
  {
   "cell_type": "code",
   "execution_count": null,
   "metadata": {},
   "outputs": [],
   "source": []
  }
 ],
 "metadata": {
  "kernelspec": {
   "display_name": "Python 3",
   "language": "python",
   "name": "python3"
  }
 },
 "nbformat": 4,
 "nbformat_minor": 4
}
