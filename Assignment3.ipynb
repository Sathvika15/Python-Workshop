{
  "nbformat": 4,
  "nbformat_minor": 0,
  "metadata": {
    "colab": {
      "name": "Assignment3.ipynb",
      "provenance": [],
      "collapsed_sections": [],
      "authorship_tag": "ABX9TyOK9bSSG2AGO0n8MMOuOUOf",
      "include_colab_link": true
    },
    "kernelspec": {
      "name": "python3",
      "display_name": "Python 3"
    }
  },
  "cells": [
    {
      "cell_type": "markdown",
      "metadata": {
        "id": "view-in-github",
        "colab_type": "text"
      },
      "source": [
        "<a href=\"https://colab.research.google.com/github/Sathvika15/Python-Workshop/blob/master/Assignment3.ipynb\" target=\"_parent\"><img src=\"https://colab.research.google.com/assets/colab-badge.svg\" alt=\"Open In Colab\"/></a>"
      ]
    },
    {
      "cell_type": "markdown",
      "metadata": {
        "id": "EqZVJfotvuBt",
        "colab_type": "text"
      },
      "source": [
        "**MODULE 2            PYTHON ASSINGMENT QUESTIONS**"
      ]
    },
    {
      "cell_type": "markdown",
      "metadata": {
        "id": "UrtwE-nQvlNb",
        "colab_type": "text"
      },
      "source": [
        " Program to check if the numbers are equal or not "
      ]
    },
    {
      "cell_type": "code",
      "metadata": {
        "id": "bjUPYKe3vgJd",
        "colab_type": "code",
        "colab": {
          "base_uri": "https://localhost:8080/",
          "height": 67
        },
        "outputId": "88630c92-bf03-4a08-9f05-13c6a11fc76f"
      },
      "source": [
        "a=int(input(\" Enter the first number \"))\n",
        "b=int(input(\" Enter the second number \"))\n",
        "if a==b:\n",
        "  print(\"The numbers are equal \")\n",
        "else:\n",
        "  print(\"The numbers are not equal \")  "
      ],
      "execution_count": 3,
      "outputs": [
        {
          "output_type": "stream",
          "text": [
            " Enter the first number 10\n",
            " Enter the second number 20\n",
            "The numbers are not equal \n"
          ],
          "name": "stdout"
        }
      ]
    },
    {
      "cell_type": "markdown",
      "metadata": {
        "id": "DgXVBJOzwb46",
        "colab_type": "text"
      },
      "source": [
        " Program using and (or) or operator "
      ]
    },
    {
      "cell_type": "markdown",
      "metadata": {
        "id": "XkguxpYHw6t5",
        "colab_type": "text"
      },
      "source": [
        "a) If all are equal "
      ]
    },
    {
      "cell_type": "code",
      "metadata": {
        "id": "UguZX-DCwMIt",
        "colab_type": "code",
        "colab": {
          "base_uri": "https://localhost:8080/",
          "height": 84
        },
        "outputId": "717cafe6-e905-4906-d67d-afcd46e283b8"
      },
      "source": [
        "x=int(input(\"Enter your first number \"))\n",
        "y=int(input(\"Enter your second number \"))\n",
        "z=int(input(\"Enter your third number \"))\n",
        "x==y and y==z and z==x\n"
      ],
      "execution_count": 5,
      "outputs": [
        {
          "output_type": "stream",
          "text": [
            "Enter your first number 5\n",
            "Enter your second number 5\n",
            "Enter your third number 5\n"
          ],
          "name": "stdout"
        },
        {
          "output_type": "execute_result",
          "data": {
            "text/plain": [
              "True"
            ]
          },
          "metadata": {
            "tags": []
          },
          "execution_count": 5
        }
      ]
    },
    {
      "cell_type": "markdown",
      "metadata": {
        "id": "ksOOTTKOxO5d",
        "colab_type": "text"
      },
      "source": [
        "b) Any of the two are equal "
      ]
    },
    {
      "cell_type": "code",
      "metadata": {
        "id": "6UZYUSgjxFd2",
        "colab_type": "code",
        "colab": {
          "base_uri": "https://localhost:8080/",
          "height": 84
        },
        "outputId": "8e2fb340-f45b-4991-fb7e-e989e8f7bfaf"
      },
      "source": [
        "x=int(input(\" Enter the first number \"))\n",
        "y=int(input(\" Enter the second number \"))\n",
        "z=int(input(\" Enter the third number \"))\n",
        "x==y or y==z or z==x\n"
      ],
      "execution_count": 8,
      "outputs": [
        {
          "output_type": "stream",
          "text": [
            " Enter the first number 6\n",
            " Enter the second number 3\n",
            " Enter the third number 6\n"
          ],
          "name": "stdout"
        },
        {
          "output_type": "execute_result",
          "data": {
            "text/plain": [
              "True"
            ]
          },
          "metadata": {
            "tags": []
          },
          "execution_count": 8
        }
      ]
    },
    {
      "cell_type": "markdown",
      "metadata": {
        "id": "urr1WEqTyWrE",
        "colab_type": "text"
      },
      "source": [
        " To check whether the sum is greater than 5 or no "
      ]
    },
    {
      "cell_type": "code",
      "metadata": {
        "id": "ryK3EsNYx5B5",
        "colab_type": "code",
        "colab": {
          "base_uri": "https://localhost:8080/",
          "height": 67
        },
        "outputId": "6053ab64-cc60-448b-f98c-460c50b33e6a"
      },
      "source": [
        "a=int(input(\"Enter your first number \"))\n",
        "b=int(input(\"Enter your second number \"))\n",
        "c=a+b\n",
        "if c<5:\n",
        "  print(\"The of the two given numbers is less than 5 \")\n",
        "elif c>5:\n",
        "  print(\"The sum of the given numbers is greater than 5 \")\n",
        "else:\n",
        "  print(\"The sum of the numbers is 5\")\n",
        "  "
      ],
      "execution_count": 11,
      "outputs": [
        {
          "output_type": "stream",
          "text": [
            "Enter your first number 3\n",
            "Enter your second number 2\n",
            "The sum of the numbers is 5\n"
          ],
          "name": "stdout"
        }
      ]
    },
    {
      "cell_type": "markdown",
      "metadata": {
        "id": "vT5NVbNyzhO0",
        "colab_type": "text"
      },
      "source": [
        " Program to check whether the student got passing marks or not "
      ]
    },
    {
      "cell_type": "code",
      "metadata": {
        "id": "3d-wHnVDzOHR",
        "colab_type": "code",
        "colab": {
          "base_uri": "https://localhost:8080/",
          "height": 50
        },
        "outputId": "9b3695e8-913b-4cc1-d451-d85967d563f3"
      },
      "source": [
        "x=float(input(\"Enter your marks \"))\n",
        "if x<35:\n",
        "  print(\"Unfortunely, you have failed \")\n",
        "else:\n",
        "  print(\"You have passed your exam \")  "
      ],
      "execution_count": 16,
      "outputs": [
        {
          "output_type": "stream",
          "text": [
            "Enter your marks 67\n",
            "You have passed your exam \n"
          ],
          "name": "stdout"
        }
      ]
    },
    {
      "cell_type": "markdown",
      "metadata": {
        "id": "nMU0zE_00PPE",
        "colab_type": "text"
      },
      "source": [
        " Program to find the maximum of three numbers "
      ]
    },
    {
      "cell_type": "code",
      "metadata": {
        "id": "t6c-nsYrz_3h",
        "colab_type": "code",
        "colab": {
          "base_uri": "https://localhost:8080/",
          "height": 84
        },
        "outputId": "a7d198c7-ce9d-4c95-9a50-91691ce7c947"
      },
      "source": [
        "a=int(input(\"Enter your first number \"))\n",
        "b=int(input(\"Enter your second number \"))\n",
        "c=int(input(\"Enter your third number \"))\n",
        "if a>b:\n",
        "  if a>c:\n",
        "    print(a,\" is the maximum number \")\n",
        "  else:\n",
        "    print(c,\" is the maximum number \")\n",
        "else:\n",
        "  if a>c:\n",
        "    print(b,\" is the maximum number \")\n",
        "  else:\n",
        "    print(c,\" is the maximum number \")        \n",
        "\n",
        "  "
      ],
      "execution_count": 20,
      "outputs": [
        {
          "output_type": "stream",
          "text": [
            "Enter your first number 40\n",
            "Enter your second number 50\n",
            "Enter your third number 2\n",
            "50  is the maximum number \n"
          ],
          "name": "stdout"
        }
      ]
    },
    {
      "cell_type": "code",
      "metadata": {
        "id": "qHDd4umj15vv",
        "colab_type": "code",
        "colab": {}
      },
      "source": [
        ""
      ],
      "execution_count": null,
      "outputs": []
    }
  ]
}