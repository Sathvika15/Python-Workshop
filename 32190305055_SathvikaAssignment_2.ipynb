{
  "nbformat": 4,
  "nbformat_minor": 0,
  "metadata": {
    "colab": {
      "name": "32190305055 SathvikaAssignment-2.ipynb",
      "provenance": [],
      "authorship_tag": "ABX9TyPiJUnJS+kZCdyi/D5e7zGx",
      "include_colab_link": true
    },
    "kernelspec": {
      "name": "python3",
      "display_name": "Python 3"
    }
  },
  "cells": [
    {
      "cell_type": "markdown",
      "metadata": {
        "id": "view-in-github",
        "colab_type": "text"
      },
      "source": [
        "<a href=\"https://colab.research.google.com/github/SathvikaKarri/Python-Workshop/blob/master/32190305055_SathvikaAssignment_2.ipynb\" target=\"_parent\"><img src=\"https://colab.research.google.com/assets/colab-badge.svg\" alt=\"Open In Colab\"/></a>"
      ]
    },
    {
      "cell_type": "markdown",
      "metadata": {
        "id": "muxt_FLeRa7z"
      },
      "source": [
        "321910305055 - Karri Sathvika"
      ]
    },
    {
      "cell_type": "markdown",
      "metadata": {
        "id": "5edhilYkRg9w"
      },
      "source": [
        "1. Write a python program to insert a new item before the second element in an existing array"
      ]
    },
    {
      "cell_type": "code",
      "metadata": {
        "colab": {
          "base_uri": "https://localhost:8080/"
        },
        "id": "BUJQ8l5nReZT",
        "outputId": "7eb6cc43-edb1-4ab2-d8f5-fd7c2d0c3fd0"
      },
      "source": [
        "import array as arr\n",
        "arr1 = arr.array(\"i\",[])\n",
        "n=int(input(\"Enter the number of elements: \"))\n",
        " \n",
        "for i in range(n):\n",
        "  arr1.append(int(input(\"Enter elements of the array: \")))\n",
        " \n",
        "print(\"Elements of the array are: \")\n",
        "for i in arr1:\n",
        "  print(i,end=\" \")\n",
        " \n",
        "num=int(input(\"\\nEnter the number of you want to add in the array: \"))\n",
        "arr1.insert(1,num)\n",
        " \n",
        "print(\"The new array is:\")\n",
        "for i in arr1:\n",
        "  print(i,end=\" \")"
      ],
      "execution_count": 15,
      "outputs": [
        {
          "output_type": "stream",
          "text": [
            "Enter the number of elements: 5\n",
            "Enter elements of the array: 1\n",
            "Enter elements of the array: 6\n",
            "Enter elements of the array: 3\n",
            "Enter elements of the array: 8\n",
            "Enter elements of the array: 10\n",
            "Elements of the array are: \n",
            "1 6 3 8 10 \n",
            "Enter the number of you want to add in the array: 2\n",
            "The new array is:\n",
            "1 2 6 3 8 10 "
          ],
          "name": "stdout"
        }
      ]
    },
    {
      "cell_type": "markdown",
      "metadata": {
        "id": "YMi3FRHvqfNR"
      },
      "source": [
        " 2. Write a program to remove the first occurence of a specific element from an array"
      ]
    },
    {
      "cell_type": "code",
      "metadata": {
        "id": "OaL0p03zXo6F",
        "colab": {
          "base_uri": "https://localhost:8080/"
        },
        "outputId": "8905657d-0cbd-4e55-e11c-969ce2674a40"
      },
      "source": [
        " import array as arr\n",
        "arr1 = arr.array(\"i\",[])\n",
        "n=int(input(\"Enter the number of elements: \"))\n",
        " \n",
        "for i in range(n):\n",
        "  arr1.append(int(input(\"Enter elements of the array: \")))\n",
        " \n",
        "print(\"Elements of the array are: \")\n",
        "for i in arr1:\n",
        "  print(i,end=\" \")\n",
        " \n",
        "num=int(input(\"\\nEnter the number of you want to remove from the array: \"))\n",
        "arr1.remove(num)\n",
        " \n",
        "print(\"The new array is:\")\n",
        "for i in arr1:\n",
        "  print(i,end=\" \")"
      ],
      "execution_count": 17,
      "outputs": [
        {
          "output_type": "stream",
          "text": [
            "Enter the number of elements: 5\n",
            "Enter elements of the array: 2\n",
            "Enter elements of the array: -1\n",
            "Enter elements of the array: 6\n",
            "Enter elements of the array: 4\n",
            "Enter elements of the array: 6\n",
            "Elements of the array are: \n",
            "2 -1 6 4 6 \n",
            "Enter the number of you want to remove from the array: 6\n",
            "The new array is:\n",
            "2 -1 4 6 "
          ],
          "name": "stdout"
        }
      ]
    }
  ]
}